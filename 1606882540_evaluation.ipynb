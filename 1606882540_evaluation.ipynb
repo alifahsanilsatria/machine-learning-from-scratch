{
 "cells": [
  {
   "cell_type": "markdown",
   "metadata": {
    "deletable": false,
    "editable": false,
    "nbgrader": {
     "checksum": "e5ad85dab40cabc45689012ecec6682e",
     "grade": false,
     "grade_id": "cell-12632037db906d4e",
     "locked": true,
     "schema_version": 1,
     "solution": false
    }
   },
   "source": [
    "# Bias-Variance Tradeoff, Regularization, Model Selection, Evaluation Metrics\n",
    "\n",
    "If you have any question regrading this particular assignment feel free to email gibran.muhammad@ui.ac.id"
   ]
  },
  {
   "cell_type": "markdown",
   "metadata": {
    "deletable": false,
    "editable": false,
    "nbgrader": {
     "checksum": "a3a23ad7390f6c5c3971fd83050a2c45",
     "grade": false,
     "grade_id": "cell-e9d3c02feaac5d18",
     "locked": true,
     "schema_version": 1,
     "solution": false
    }
   },
   "source": [
    "# Table Of Content\n",
    "\n",
    "* [Bias-Variance Tradeoff, Regularization, Model Selection](#Layer)\n",
    "    * [Regularization and model selection](#Regularization-and-model-selection)\n",
    "        * [Cross Validation](#Cross-Validation)\n",
    "        * [K-Fold Cross Validation](#K-Fold-Cross-Validation) (score:2)\n",
    "        * [Feature Selection](#Feature-Selection) (score:1)\n",
    "    * [Bias-Variance Tradeoff](#Bias-Variance-Tradeoff) (score:1)\n",
    "* [Evaluation metrics](#Evaluation-Metrics)\n",
    "    * [Confusion Matrix](#Confusion-Matrix) (score:1)\n",
    "    * [Point metrics](#Point-Metrics) (score:1)\n",
    "    * [Precision vs Recall](#Precision-vs-Recall) (score:1)"
   ]
  },
  {
   "cell_type": "code",
   "execution_count": 16,
   "metadata": {},
   "outputs": [],
   "source": [
    "#put your npm as string below\n",
    "NPM = \"1606882540\"\n",
    "\n",
    "#if someone that also take an ML class this year help you doing this assingment,put his/her NPM as list of string below\n",
    "COLLABORATORS = []\n",
    "\n",
    "#if youre using external sources please put its link as list of string below\n",
    "SOURCES = []"
   ]
  },
  {
   "cell_type": "code",
   "execution_count": 17,
   "metadata": {},
   "outputs": [],
   "source": [
    "import numpy as np\n",
    "from matplotlib import pyplot as plt"
   ]
  },
  {
   "cell_type": "code",
   "execution_count": null,
   "metadata": {
    "deletable": false,
    "editable": false,
    "nbgrader": {
     "checksum": "0b7ae0f910fae537b765dd75cdb73dc3",
     "grade": true,
     "grade_id": "cell-914d04705a3a5cd9",
     "locked": true,
     "points": 0,
     "schema_version": 1,
     "solution": false
    }
   },
   "outputs": [],
   "source": []
  },
  {
   "cell_type": "code",
   "execution_count": 18,
   "metadata": {
    "deletable": false,
    "editable": false,
    "nbgrader": {
     "checksum": "bad89bdc2f19d8385f7a020c920e72d5",
     "grade": false,
     "grade_id": "cell-55f9a500f0f380fd",
     "locked": true,
     "schema_version": 1,
     "solution": false
    }
   },
   "outputs": [],
   "source": [
    "def is_similar(X, Y):\n",
    "    if isinstance(X, list) and isinstance(Y, list):\n",
    "        if len(X) == len(Y):\n",
    "            return all([is_similar(x,Y[i]) for i,x in enumerate(X)])\n",
    "        else:\n",
    "            return False\n",
    "    return abs(X-Y) <= 1e-7"
   ]
  },
  {
   "cell_type": "markdown",
   "metadata": {
    "deletable": false,
    "editable": false,
    "nbgrader": {
     "checksum": "12efa34b56d2402d22057374176c21f6",
     "grade": false,
     "grade_id": "cell-96c8d7bdb6b6b4b9",
     "locked": true,
     "schema_version": 1,
     "solution": false
    }
   },
   "source": [
    "# Regularization and model selection\n",
    "\n"
   ]
  },
  {
   "cell_type": "markdown",
   "metadata": {
    "deletable": false,
    "editable": false,
    "nbgrader": {
     "checksum": "1ddfa17a3f62770df0b1d8a71a23bbc7",
     "grade": false,
     "grade_id": "cell-bcbe0ec04df3753d",
     "locked": true,
     "schema_version": 1,
     "solution": false
    }
   },
   "source": [
    "## Cross Validation\n",
    "\n",
    "\n",
    "Cross Validation is a technique which involves reserving a particular sample of a dataset on which you do not train the model. Later, you test your model on this sample before finalizing it."
   ]
  },
  {
   "cell_type": "code",
   "execution_count": 19,
   "metadata": {
    "deletable": false,
    "editable": false,
    "nbgrader": {
     "checksum": "b45a875062b897c86122cb59c9b87308",
     "grade": false,
     "grade_id": "cell-e8c3aad9326713d7",
     "locked": true,
     "schema_version": 1,
     "solution": false
    }
   },
   "outputs": [],
   "source": [
    "from sklearn.datasets import load_iris\n",
    "from random import shuffle\n",
    "\n",
    "iris = load_iris()\n",
    "\n",
    "X = iris.data\n",
    "y = iris.target\n",
    "z = list(zip(X, y))\n",
    "shuffle(z)\n",
    "X, y = zip(*z)\n",
    "train_pct_index = int(0.7 * len(X))\n",
    "\n",
    "X_train, X_test = X[:train_pct_index], X[train_pct_index:]\n",
    "y_train, y_test = y[:train_pct_index], y[train_pct_index:]"
   ]
  },
  {
   "cell_type": "code",
   "execution_count": 20,
   "metadata": {
    "deletable": false,
    "editable": false,
    "nbgrader": {
     "checksum": "2d67ba1819b581a90d70701de3d6b122",
     "grade": false,
     "grade_id": "cell-6ea8aa81dca4825c",
     "locked": true,
     "schema_version": 1,
     "solution": false
    }
   },
   "outputs": [
    {
     "name": "stdout",
     "output_type": "stream",
     "text": [
      "Logistic Regression score:  0.9111111111111111\n",
      "Gaussian Naive Bayes score:  0.9333333333333333\n"
     ]
    },
    {
     "name": "stderr",
     "output_type": "stream",
     "text": [
      "c:\\users\\alif\\appdata\\local\\programs\\python\\python37-32\\lib\\site-packages\\sklearn\\linear_model\\logistic.py:433: FutureWarning: Default solver will be changed to 'lbfgs' in 0.22. Specify a solver to silence this warning.\n",
      "  FutureWarning)\n",
      "c:\\users\\alif\\appdata\\local\\programs\\python\\python37-32\\lib\\site-packages\\sklearn\\linear_model\\logistic.py:460: FutureWarning: Default multi_class will be changed to 'auto' in 0.22. Specify the multi_class option to silence this warning.\n",
      "  \"this warning.\", FutureWarning)\n"
     ]
    }
   ],
   "source": [
    "from sklearn.linear_model import LogisticRegression\n",
    "from sklearn.naive_bayes import GaussianNB\n",
    "\n",
    "logisticRegr = LogisticRegression()\n",
    "logisticRegr.fit(X_train, y_train)\n",
    "\n",
    "y_pred = logisticRegr.predict(X_test)\n",
    "\n",
    "score = logisticRegr.score(X_test, y_test)\n",
    "print('Logistic Regression score: ', score)\n",
    "\n",
    "gnb = GaussianNB()\n",
    "gnb.fit(X_train, y_train)\n",
    "\n",
    "y_pred = gnb.predict(X_test)\n",
    "\n",
    "score = gnb.score(X_test, y_test)\n",
    "print('Gaussian Naive Bayes score: ', score)"
   ]
  },
  {
   "cell_type": "markdown",
   "metadata": {
    "deletable": false,
    "editable": false,
    "nbgrader": {
     "checksum": "5401520279cb5f63aaeb58a66852036c",
     "grade": false,
     "grade_id": "cell-93c917e5bf78abe8",
     "locked": true,
     "schema_version": 1,
     "solution": false
    }
   },
   "source": [
    "## K-Fold Cross Validation\n",
    "\n",
    "A disadvantage of using a simple cross validation is we waste a portion of our data not used in training. K-fold cross validation tried to not wasted our precious data by split it into a K number of sections/folds where each fold is used as a testing set at some point.\n",
    "\n",
    "### Exercise\n",
    "\n",
    "implement a cross validation split that will split the dataset into k folds then use cross validation split method you make to implement a 10-fold cross validation on iris dataset using Gaussian Naive Bayes and Logistic Regression model\n",
    "\n",
    "<b>note: If the dataset does not cleanly divide by the number of folds, there may be some remainder and they will not be used in the split, for example if you have 10 data, using 4-fold cross validation split you get 2 data per fold <b>"
   ]
  },
  {
   "cell_type": "code",
   "execution_count": 21,
   "metadata": {
    "deletable": false,
    "editable": false,
    "nbgrader": {
     "checksum": "a87e2a1f51065d73c51221be9756d00a",
     "grade": true,
     "grade_id": "cell-3bf26db1f8dee8fd",
     "locked": true,
     "points": 0,
     "schema_version": 1,
     "solution": false
    }
   },
   "outputs": [],
   "source": [
    "from random import seed\n",
    "from random import randrange\n",
    "from statistics import mean \n"
   ]
  },
  {
   "cell_type": "code",
   "execution_count": 22,
   "metadata": {
    "deletable": false,
    "nbgrader": {
     "checksum": "5f33752ed8ed5623e39e7e24faad90bf",
     "grade": false,
     "grade_id": "cell-ebdac7a65b8ee880",
     "locked": false,
     "schema_version": 1,
     "solution": true
    }
   },
   "outputs": [],
   "source": [
    "def cross_validation_split(dataset, folds=3):\n",
    "    dataset_split = list()\n",
    "    tmp = []\n",
    "    size = len(dataset)\n",
    "    cnt_data = 0\n",
    "    for i in range(size):\n",
    "        tmp.append(dataset[i])\n",
    "        if((i+1)%(size//folds) == 0):\n",
    "            dataset_split.append(tmp)\n",
    "            cnt_data += 1\n",
    "            tmp = []\n",
    "        if(cnt_data >= folds):\n",
    "            break;\n",
    "    return dataset_split"
   ]
  },
  {
   "cell_type": "code",
   "execution_count": 23,
   "metadata": {
    "deletable": false,
    "editable": false,
    "nbgrader": {
     "checksum": "e7689ae1297727f1f48ce520536c9bfd",
     "grade": true,
     "grade_id": "cell-b7a75fe337fb67f6",
     "locked": true,
     "points": 1,
     "schema_version": 1,
     "solution": false
    }
   },
   "outputs": [],
   "source": [
    "dataset = [[1], [2], [3], [4], [5], [6], [7], [8], [9], [10]]\n",
    "folds = cross_validation_split(dataset, 4)\n",
    "assert len(folds) == 4\n",
    "assert len(folds[0]) == 2\n",
    "assert len(folds[0]) == len(folds[1])"
   ]
  },
  {
   "cell_type": "code",
   "execution_count": 34,
   "metadata": {
    "deletable": false,
    "nbgrader": {
     "checksum": "99944c900f6338b29bf1e563f203408c",
     "grade": false,
     "grade_id": "cell-e5c503a4f2fcea67",
     "locked": false,
     "schema_version": 1,
     "solution": true
    }
   },
   "outputs": [
    {
     "name": "stdout",
     "output_type": "stream",
     "text": [
      "Logistic Regression score:  0.7666666666666667\n",
      "Gaussian Naive Bayes score:  0.96\n"
     ]
    },
    {
     "name": "stderr",
     "output_type": "stream",
     "text": [
      "c:\\users\\alif\\appdata\\local\\programs\\python\\python37-32\\lib\\site-packages\\sklearn\\linear_model\\logistic.py:433: FutureWarning: Default solver will be changed to 'lbfgs' in 0.22. Specify a solver to silence this warning.\n",
      "  FutureWarning)\n",
      "c:\\users\\alif\\appdata\\local\\programs\\python\\python37-32\\lib\\site-packages\\sklearn\\linear_model\\logistic.py:460: FutureWarning: Default multi_class will be changed to 'auto' in 0.22. Specify the multi_class option to silence this warning.\n",
      "  \"this warning.\", FutureWarning)\n",
      "c:\\users\\alif\\appdata\\local\\programs\\python\\python37-32\\lib\\site-packages\\sklearn\\linear_model\\logistic.py:433: FutureWarning: Default solver will be changed to 'lbfgs' in 0.22. Specify a solver to silence this warning.\n",
      "  FutureWarning)\n",
      "c:\\users\\alif\\appdata\\local\\programs\\python\\python37-32\\lib\\site-packages\\sklearn\\linear_model\\logistic.py:460: FutureWarning: Default multi_class will be changed to 'auto' in 0.22. Specify the multi_class option to silence this warning.\n",
      "  \"this warning.\", FutureWarning)\n",
      "c:\\users\\alif\\appdata\\local\\programs\\python\\python37-32\\lib\\site-packages\\sklearn\\linear_model\\logistic.py:433: FutureWarning: Default solver will be changed to 'lbfgs' in 0.22. Specify a solver to silence this warning.\n",
      "  FutureWarning)\n",
      "c:\\users\\alif\\appdata\\local\\programs\\python\\python37-32\\lib\\site-packages\\sklearn\\linear_model\\logistic.py:460: FutureWarning: Default multi_class will be changed to 'auto' in 0.22. Specify the multi_class option to silence this warning.\n",
      "  \"this warning.\", FutureWarning)\n",
      "c:\\users\\alif\\appdata\\local\\programs\\python\\python37-32\\lib\\site-packages\\sklearn\\linear_model\\logistic.py:433: FutureWarning: Default solver will be changed to 'lbfgs' in 0.22. Specify a solver to silence this warning.\n",
      "  FutureWarning)\n",
      "c:\\users\\alif\\appdata\\local\\programs\\python\\python37-32\\lib\\site-packages\\sklearn\\linear_model\\logistic.py:460: FutureWarning: Default multi_class will be changed to 'auto' in 0.22. Specify the multi_class option to silence this warning.\n",
      "  \"this warning.\", FutureWarning)\n",
      "c:\\users\\alif\\appdata\\local\\programs\\python\\python37-32\\lib\\site-packages\\sklearn\\linear_model\\logistic.py:433: FutureWarning: Default solver will be changed to 'lbfgs' in 0.22. Specify a solver to silence this warning.\n",
      "  FutureWarning)\n",
      "c:\\users\\alif\\appdata\\local\\programs\\python\\python37-32\\lib\\site-packages\\sklearn\\linear_model\\logistic.py:460: FutureWarning: Default multi_class will be changed to 'auto' in 0.22. Specify the multi_class option to silence this warning.\n",
      "  \"this warning.\", FutureWarning)\n",
      "c:\\users\\alif\\appdata\\local\\programs\\python\\python37-32\\lib\\site-packages\\sklearn\\linear_model\\logistic.py:433: FutureWarning: Default solver will be changed to 'lbfgs' in 0.22. Specify a solver to silence this warning.\n",
      "  FutureWarning)\n",
      "c:\\users\\alif\\appdata\\local\\programs\\python\\python37-32\\lib\\site-packages\\sklearn\\linear_model\\logistic.py:460: FutureWarning: Default multi_class will be changed to 'auto' in 0.22. Specify the multi_class option to silence this warning.\n",
      "  \"this warning.\", FutureWarning)\n",
      "c:\\users\\alif\\appdata\\local\\programs\\python\\python37-32\\lib\\site-packages\\sklearn\\linear_model\\logistic.py:433: FutureWarning: Default solver will be changed to 'lbfgs' in 0.22. Specify a solver to silence this warning.\n",
      "  FutureWarning)\n",
      "c:\\users\\alif\\appdata\\local\\programs\\python\\python37-32\\lib\\site-packages\\sklearn\\linear_model\\logistic.py:460: FutureWarning: Default multi_class will be changed to 'auto' in 0.22. Specify the multi_class option to silence this warning.\n",
      "  \"this warning.\", FutureWarning)\n",
      "c:\\users\\alif\\appdata\\local\\programs\\python\\python37-32\\lib\\site-packages\\sklearn\\linear_model\\logistic.py:433: FutureWarning: Default solver will be changed to 'lbfgs' in 0.22. Specify a solver to silence this warning.\n",
      "  FutureWarning)\n",
      "c:\\users\\alif\\appdata\\local\\programs\\python\\python37-32\\lib\\site-packages\\sklearn\\linear_model\\logistic.py:460: FutureWarning: Default multi_class will be changed to 'auto' in 0.22. Specify the multi_class option to silence this warning.\n",
      "  \"this warning.\", FutureWarning)\n",
      "c:\\users\\alif\\appdata\\local\\programs\\python\\python37-32\\lib\\site-packages\\sklearn\\linear_model\\logistic.py:433: FutureWarning: Default solver will be changed to 'lbfgs' in 0.22. Specify a solver to silence this warning.\n",
      "  FutureWarning)\n",
      "c:\\users\\alif\\appdata\\local\\programs\\python\\python37-32\\lib\\site-packages\\sklearn\\linear_model\\logistic.py:460: FutureWarning: Default multi_class will be changed to 'auto' in 0.22. Specify the multi_class option to silence this warning.\n",
      "  \"this warning.\", FutureWarning)\n",
      "c:\\users\\alif\\appdata\\local\\programs\\python\\python37-32\\lib\\site-packages\\sklearn\\linear_model\\logistic.py:433: FutureWarning: Default solver will be changed to 'lbfgs' in 0.22. Specify a solver to silence this warning.\n",
      "  FutureWarning)\n",
      "c:\\users\\alif\\appdata\\local\\programs\\python\\python37-32\\lib\\site-packages\\sklearn\\linear_model\\logistic.py:460: FutureWarning: Default multi_class will be changed to 'auto' in 0.22. Specify the multi_class option to silence this warning.\n",
      "  \"this warning.\", FutureWarning)\n"
     ]
    }
   ],
   "source": [
    "iris = load_iris()\n",
    "\n",
    "X = iris.data\n",
    "y = iris.target\n",
    "z = [x for x in range(len(X))]\n",
    "\n",
    "folds = cross_validation_split(z, 10)\n",
    "lrscore = []\n",
    "gnbscore = []\n",
    "\n",
    "logisticRegr = LogisticRegression()\n",
    "gnb = GaussianNB()\n",
    "\n",
    "size_fold = len(folds[0])\n",
    "size_folds = len(folds)\n",
    "for i in range(size_folds):\n",
    "    X_test = []\n",
    "    y_test = []\n",
    "    X_train = []\n",
    "    y_train = []   \n",
    "    # YOUR CODE HERE\n",
    "    for data in folds[i]:\n",
    "        X_test.append([data])\n",
    "        \n",
    "    for k in range(i*size_fold,i*size_fold+size_fold):\n",
    "        y_test.append(y[k])\n",
    "    \n",
    "    for j in range(size_folds):\n",
    "        if(j != i):\n",
    "            for data in folds[j]:\n",
    "                X_train.append([data])\n",
    "            for m in range(j*size_fold,j*size_fold+size_fold):\n",
    "                y_train.append(y[m])\n",
    "    logisticRegr.fit(X_train, y_train)\n",
    "    y_pred = logisticRegr.predict(X_test)\n",
    "    lrscore.append(logisticRegr.score(X_test, y_test))\n",
    "    \n",
    "    gnb.fit(X_train, y_train)\n",
    "    y_pred = gnb.predict(X_test)\n",
    "    gnbscore.append(gnb.score(X_test, y_test))\n",
    "\n",
    "print('Logistic Regression score: ', mean(lrscore))\n",
    "print('Gaussian Naive Bayes score: ', mean(gnbscore))"
   ]
  },
  {
   "cell_type": "code",
   "execution_count": null,
   "metadata": {
    "deletable": false,
    "editable": false,
    "nbgrader": {
     "checksum": "d14db71fb167e60d2d36a6ebfb7750df",
     "grade": true,
     "grade_id": "cell-66afe3513fce4452",
     "locked": true,
     "points": 1,
     "schema_version": 1,
     "solution": false
    }
   },
   "outputs": [],
   "source": []
  },
  {
   "cell_type": "markdown",
   "metadata": {
    "deletable": false,
    "editable": false,
    "nbgrader": {
     "checksum": "f6c3d65fb96269fb8e95ddb866553c8b",
     "grade": false,
     "grade_id": "cell-dd628e6e264fac6b",
     "locked": true,
     "schema_version": 1,
     "solution": false
    }
   },
   "source": [
    "## Feature Selection\n",
    "\n",
    "Feature Selection is the process where you automatically or manually select those features which relevant to the learning task. With performing feature selection you can reduce overfitting, improves accuracy, and reduce training time.\n",
    "\n",
    "### Exercise \n",
    "\n",
    "Given boston house-prices dataset, please perform a filter feature selection using mutual information with k = 2\n",
    "\n",
    "<b>notes: you can used sklearn mutual_info_regression method<b>"
   ]
  },
  {
   "cell_type": "code",
   "execution_count": 35,
   "metadata": {
    "deletable": false,
    "editable": false,
    "nbgrader": {
     "checksum": "ce6fd5b5d6e527e71a87b51a81fae1d0",
     "grade": true,
     "grade_id": "cell-3bd83c537aee3a7e",
     "locked": true,
     "points": 5,
     "schema_version": 1,
     "solution": false
    }
   },
   "outputs": [
    {
     "data": {
      "text/html": [
       "<div>\n",
       "<style scoped>\n",
       "    .dataframe tbody tr th:only-of-type {\n",
       "        vertical-align: middle;\n",
       "    }\n",
       "\n",
       "    .dataframe tbody tr th {\n",
       "        vertical-align: top;\n",
       "    }\n",
       "\n",
       "    .dataframe thead th {\n",
       "        text-align: right;\n",
       "    }\n",
       "</style>\n",
       "<table border=\"1\" class=\"dataframe\">\n",
       "  <thead>\n",
       "    <tr style=\"text-align: right;\">\n",
       "      <th></th>\n",
       "      <th>CRIM</th>\n",
       "      <th>ZN</th>\n",
       "      <th>INDUS</th>\n",
       "      <th>CHAS</th>\n",
       "      <th>NOX</th>\n",
       "      <th>RM</th>\n",
       "      <th>AGE</th>\n",
       "      <th>DIS</th>\n",
       "      <th>RAD</th>\n",
       "      <th>TAX</th>\n",
       "      <th>PTRATIO</th>\n",
       "      <th>B</th>\n",
       "      <th>LSTAT</th>\n",
       "      <th>Price</th>\n",
       "    </tr>\n",
       "  </thead>\n",
       "  <tbody>\n",
       "    <tr>\n",
       "      <th>0</th>\n",
       "      <td>0.00632</td>\n",
       "      <td>18.0</td>\n",
       "      <td>2.31</td>\n",
       "      <td>0.0</td>\n",
       "      <td>0.538</td>\n",
       "      <td>6.575</td>\n",
       "      <td>65.2</td>\n",
       "      <td>4.0900</td>\n",
       "      <td>1.0</td>\n",
       "      <td>296.0</td>\n",
       "      <td>15.3</td>\n",
       "      <td>396.90</td>\n",
       "      <td>4.98</td>\n",
       "      <td>24.0</td>\n",
       "    </tr>\n",
       "    <tr>\n",
       "      <th>1</th>\n",
       "      <td>0.02731</td>\n",
       "      <td>0.0</td>\n",
       "      <td>7.07</td>\n",
       "      <td>0.0</td>\n",
       "      <td>0.469</td>\n",
       "      <td>6.421</td>\n",
       "      <td>78.9</td>\n",
       "      <td>4.9671</td>\n",
       "      <td>2.0</td>\n",
       "      <td>242.0</td>\n",
       "      <td>17.8</td>\n",
       "      <td>396.90</td>\n",
       "      <td>9.14</td>\n",
       "      <td>21.6</td>\n",
       "    </tr>\n",
       "    <tr>\n",
       "      <th>2</th>\n",
       "      <td>0.02729</td>\n",
       "      <td>0.0</td>\n",
       "      <td>7.07</td>\n",
       "      <td>0.0</td>\n",
       "      <td>0.469</td>\n",
       "      <td>7.185</td>\n",
       "      <td>61.1</td>\n",
       "      <td>4.9671</td>\n",
       "      <td>2.0</td>\n",
       "      <td>242.0</td>\n",
       "      <td>17.8</td>\n",
       "      <td>392.83</td>\n",
       "      <td>4.03</td>\n",
       "      <td>34.7</td>\n",
       "    </tr>\n",
       "    <tr>\n",
       "      <th>3</th>\n",
       "      <td>0.03237</td>\n",
       "      <td>0.0</td>\n",
       "      <td>2.18</td>\n",
       "      <td>0.0</td>\n",
       "      <td>0.458</td>\n",
       "      <td>6.998</td>\n",
       "      <td>45.8</td>\n",
       "      <td>6.0622</td>\n",
       "      <td>3.0</td>\n",
       "      <td>222.0</td>\n",
       "      <td>18.7</td>\n",
       "      <td>394.63</td>\n",
       "      <td>2.94</td>\n",
       "      <td>33.4</td>\n",
       "    </tr>\n",
       "    <tr>\n",
       "      <th>4</th>\n",
       "      <td>0.06905</td>\n",
       "      <td>0.0</td>\n",
       "      <td>2.18</td>\n",
       "      <td>0.0</td>\n",
       "      <td>0.458</td>\n",
       "      <td>7.147</td>\n",
       "      <td>54.2</td>\n",
       "      <td>6.0622</td>\n",
       "      <td>3.0</td>\n",
       "      <td>222.0</td>\n",
       "      <td>18.7</td>\n",
       "      <td>396.90</td>\n",
       "      <td>5.33</td>\n",
       "      <td>36.2</td>\n",
       "    </tr>\n",
       "  </tbody>\n",
       "</table>\n",
       "</div>"
      ],
      "text/plain": [
       "      CRIM    ZN  INDUS  CHAS    NOX     RM   AGE     DIS  RAD    TAX  \\\n",
       "0  0.00632  18.0   2.31   0.0  0.538  6.575  65.2  4.0900  1.0  296.0   \n",
       "1  0.02731   0.0   7.07   0.0  0.469  6.421  78.9  4.9671  2.0  242.0   \n",
       "2  0.02729   0.0   7.07   0.0  0.469  7.185  61.1  4.9671  2.0  242.0   \n",
       "3  0.03237   0.0   2.18   0.0  0.458  6.998  45.8  6.0622  3.0  222.0   \n",
       "4  0.06905   0.0   2.18   0.0  0.458  7.147  54.2  6.0622  3.0  222.0   \n",
       "\n",
       "   PTRATIO       B  LSTAT  Price  \n",
       "0     15.3  396.90   4.98   24.0  \n",
       "1     17.8  396.90   9.14   21.6  \n",
       "2     17.8  392.83   4.03   34.7  \n",
       "3     18.7  394.63   2.94   33.4  \n",
       "4     18.7  396.90   5.33   36.2  "
      ]
     },
     "execution_count": 35,
     "metadata": {},
     "output_type": "execute_result"
    }
   ],
   "source": [
    "from sklearn.datasets import load_boston\n",
    "from sklearn.feature_selection import mutual_info_regression\n",
    "import pandas as pd\n",
    "x = load_boston()\n",
    "df = pd.DataFrame(x.data, columns = x.feature_names)\n",
    "df[\"Price\"] = x.target\n",
    "X = df.drop(\"Price\",1)\n",
    "y = df[\"Price\"]\n",
    "df.head()"
   ]
  },
  {
   "cell_type": "code",
   "execution_count": 46,
   "metadata": {
    "deletable": false,
    "nbgrader": {
     "checksum": "e767def201d88bbc6adef9e494e77f3b",
     "grade": false,
     "grade_id": "cell-f2cec1d81ff73a83",
     "locked": false,
     "schema_version": 1,
     "solution": true
    }
   },
   "outputs": [],
   "source": [
    "### mi is an array with the same shape as features\n",
    "### each of mi element contain the value of mutual_information(feature, target)\n",
    "def choose_k_highest(features, mi, k):\n",
    "    features_selected = []\n",
    "    # YOUR CODE HERE\n",
    "    mi = [x for x in mi]\n",
    "    feature_names = X.columns\n",
    "    feature_mapping = {}\n",
    "    for i,data in enumerate(mi):\n",
    "        feature_mapping[data] = feature_names[i]\n",
    "    mi.sort(reverse=True)\n",
    "    \n",
    "    for i in range(k):\n",
    "        features_selected.append(feature_mapping[mi[i]])\n",
    "    return features_selected\n",
    "\n",
    "k = 2\n",
    "features_selected = [''] * k\n",
    "mutual_information = np.zeros(X.columns.shape)\n",
    "\n",
    "# YOUR CODE HERE\n",
    "mutual_information = mutual_info_regression(X, y)\n",
    "features_selected = choose_k_highest(X.columns, mutual_information, k)"
   ]
  },
  {
   "cell_type": "code",
   "execution_count": 47,
   "metadata": {
    "deletable": false,
    "editable": false,
    "nbgrader": {
     "checksum": "8ab0a630184f92e8d6a6f585cca5be6d",
     "grade": true,
     "grade_id": "cell-cf31fd60ef146a9d",
     "locked": true,
     "points": 1,
     "schema_version": 1,
     "solution": false
    }
   },
   "outputs": [],
   "source": [
    "def compare(s, t):\n",
    "    return sorted(s) == sorted(t)\n",
    "\n",
    "features_selected = choose_k_highest(X.columns, mutual_information, 2)\n",
    "assert compare(features_selected, ['RM', 'LSTAT'])"
   ]
  },
  {
   "cell_type": "code",
   "execution_count": null,
   "metadata": {
    "deletable": false,
    "editable": false,
    "nbgrader": {
     "checksum": "c5e2016673f2a4a6080c588eba40a9e0",
     "grade": true,
     "grade_id": "cell-875a63c1adb28ee0",
     "locked": true,
     "points": 5,
     "schema_version": 1,
     "solution": false
    }
   },
   "outputs": [],
   "source": []
  },
  {
   "cell_type": "markdown",
   "metadata": {
    "deletable": false,
    "editable": false,
    "nbgrader": {
     "checksum": "21a848905c2753432b0746d759826299",
     "grade": false,
     "grade_id": "cell-9557dc540e4d9d0e",
     "locked": true,
     "schema_version": 1,
     "solution": false
    }
   },
   "source": [
    "# Bias-Variance Tradeoff\n",
    "\n",
    "A model can be bad for two diﬀerent:\n",
    "\n",
    "* it is not accurate and doesn’t match the data well\n",
    "* it is not very precise and there is a lot of variation in the results\n",
    "\n",
    "We say a model has high bias when it is too simple to capture the complexity of the data, resulting to an underfit model.\n",
    "<br>\n",
    "high variance is when our model is too complex like using a 100 degree polynomial for quadratic data. In this situation we overfit the data."
   ]
  },
  {
   "cell_type": "markdown",
   "metadata": {
    "deletable": false,
    "editable": false,
    "nbgrader": {
     "checksum": "25a7dfbd3e73a8d1c6fb6d663a012698",
     "grade": false,
     "grade_id": "cell-88ae2a9059f64ca9",
     "locked": true,
     "schema_version": 1,
     "solution": false
    }
   },
   "source": [
    "Using the same low resolution written image digit dataset that we used in the previous homework, we will compare between Naive bayes and SVM model in classifying those image"
   ]
  },
  {
   "cell_type": "code",
   "execution_count": 48,
   "metadata": {
    "deletable": false,
    "editable": false,
    "nbgrader": {
     "checksum": "53d274e84d2a3f13c8bb615e2cf8ea3d",
     "grade": false,
     "grade_id": "cell-8f254e0ebbcd806f",
     "locked": true,
     "schema_version": 1,
     "solution": false
    }
   },
   "outputs": [
    {
     "data": {
      "image/png": "[encoded data removed]",
      "text/plain": [
       "<Figure size 1440x1440 with 9 Axes>"
      ]
     },
     "metadata": {
      "needs_background": "light"
     },
     "output_type": "display_data"
    }
   ],
   "source": [
    "from sklearn.naive_bayes import GaussianNB\n",
    "from sklearn.svm import SVC\n",
    "from sklearn.datasets import load_digits\n",
    "from sklearn.model_selection import learning_curve\n",
    "from sklearn.model_selection import ShuffleSplit\n",
    "\n",
    "digits = load_digits()\n",
    "X, y = digits.data, digits.target\n",
    "\n",
    "plt.figure(figsize=(20,20))\n",
    "for i in range(9):\n",
    "    plt.subplot(190+i+1)\n",
    "    plt.imshow(digits.data[i].reshape(8,8), cmap=plt.cm.gray_r)"
   ]
  },
  {
   "cell_type": "markdown",
   "metadata": {},
   "source": [
    "Split data, train model, plot the result !!!"
   ]
  },
  {
   "cell_type": "code",
   "execution_count": 50,
   "metadata": {
    "deletable": false,
    "editable": false,
    "nbgrader": {
     "checksum": "3b50a659190ecd4c6880e6f13085d235",
     "grade": false,
     "grade_id": "cell-07f44ff54c517cc6",
     "locked": true,
     "schema_version": 1,
     "solution": false
    }
   },
   "outputs": [
    {
     "data": {
      "image/png": "[encoded data removed]",
      "text/plain": [
       "<Figure size 432x288 with 1 Axes>"
      ]
     },
     "metadata": {
      "needs_background": "light"
     },
     "output_type": "display_data"
    },
    {
     "data": {
      "image/png": "[encoded data removed]",
      "text/plain": [
       "<Figure size 432x288 with 1 Axes>"
      ]
     },
     "metadata": {
      "needs_background": "light"
     },
     "output_type": "display_data"
    }
   ],
   "source": [
    "def plot_learning_curve(estimator, title, X, y, ylim=None, cv=None,\n",
    "                        n_jobs=None, train_sizes=np.linspace(.1, 1.0, 5)):\n",
    "    plt.figure()\n",
    "    plt.title(title)\n",
    "    if ylim is not None:\n",
    "        plt.ylim(*ylim)\n",
    "    plt.xlabel(\"Training examples\")\n",
    "    plt.ylabel(\"Score\")\n",
    "    train_sizes, train_scores, test_scores = learning_curve(\n",
    "        estimator, X, y, cv=cv, n_jobs=n_jobs, train_sizes=train_sizes)\n",
    "    train_scores_mean = np.mean(train_scores, axis=1)\n",
    "    train_scores_std = np.std(train_scores, axis=1)\n",
    "    test_scores_mean = np.mean(test_scores, axis=1)\n",
    "    test_scores_std = np.std(test_scores, axis=1)\n",
    "    plt.grid()\n",
    "\n",
    "    plt.fill_between(train_sizes, train_scores_mean - train_scores_std,\n",
    "                     train_scores_mean + train_scores_std, alpha=0.1,\n",
    "                     color=\"r\")\n",
    "    plt.fill_between(train_sizes, test_scores_mean - test_scores_std,\n",
    "                     test_scores_mean + test_scores_std, alpha=0.1, color=\"g\")\n",
    "    plt.plot(train_sizes, train_scores_mean, 'o-', color=\"r\",\n",
    "             label=\"Training score\")\n",
    "    plt.plot(train_sizes, test_scores_mean, 'o-', color=\"g\",\n",
    "             label=\"Cross-validation score\")\n",
    "\n",
    "    plt.legend(loc=\"best\")\n",
    "    return plt\n",
    "\n",
    "title = \"Learning Curves (Naive Bayes)\"\n",
    "cv = ShuffleSplit(n_splits=100, test_size=0.2, random_state=0)\n",
    "\n",
    "estimator = GaussianNB()\n",
    "plot_learning_curve(estimator, title, X, y, ylim=(0.7, 1.01), cv=cv, n_jobs=4)\n",
    "\n",
    "title = r\"Learning Curves (SVM, RBF kernel, $\\gamma=0.001$)\"\n",
    "cv = ShuffleSplit(n_splits=10, test_size=0.2, random_state=0)\n",
    "estimator = SVC(gamma=0.001)\n",
    "plot_learning_curve(estimator, title, X, y, (0.7, 1.01), cv=cv, n_jobs=4)\n",
    "\n",
    "plt.show()"
   ]
  },
  {
   "cell_type": "markdown",
   "metadata": {
    "deletable": false,
    "editable": false,
    "nbgrader": {
     "checksum": "6c89d9810f38a008e2884e89c3dd517f",
     "grade": false,
     "grade_id": "cell-488840a957952436",
     "locked": true,
     "schema_version": 1,
     "solution": false
    }
   },
   "source": [
    "The code above will create 2 learning curve for both of our Naive Bayes and SVM model. \n",
    "<br>\n",
    "If we want to compare our SVM and Naive Bayes model, what can you say according to the learning curve above ?"
   ]
  },
  {
   "cell_type": "markdown",
   "metadata": {
    "deletable": false,
    "nbgrader": {
     "checksum": "e2c6d3150cc8b5cb766d24d32fae49bf",
     "grade": true,
     "grade_id": "cell-dc86f8cc13e4574c",
     "locked": false,
     "points": 1,
     "schema_version": 1,
     "solution": true
    }
   },
   "source": [
    "Untuk model naive bayes, apabila banyaknya data training ditingkatkan, maka akurasi training (yg direpresentasikan oleh score) akan menurun sampai di suatu titik dan akurasi cross validation akan naik sampai di suatu titik. Untuk model SVM, apabila banyaknya data training ditingkatkan, maka akurasi training (yg direpresentasikan oleh score) akan tetap dan akurasi cross validation akan naik sampai di suatu titik."
   ]
  },
  {
   "cell_type": "markdown",
   "metadata": {
    "deletable": false,
    "editable": false,
    "nbgrader": {
     "checksum": "7d8e99141d2fc0cdf453bb03ef277726",
     "grade": false,
     "grade_id": "cell-2ad58fbac8bc3917",
     "locked": true,
     "schema_version": 1,
     "solution": false
    }
   },
   "source": [
    "# Evaluation Metrics"
   ]
  },
  {
   "cell_type": "markdown",
   "metadata": {
    "deletable": false,
    "editable": false,
    "nbgrader": {
     "checksum": "f91d651309f5897bc27774aba0b1ec9d",
     "grade": false,
     "grade_id": "cell-918ed27f7ca5f560",
     "locked": true,
     "schema_version": 1,
     "solution": false
    }
   },
   "source": [
    "## Confusion Matrix\n",
    "\n",
    "A confusion matrix is a common evaluation matrix to evaluate a classification model. A confusion matrix is an N X N matrix, where N is the number of classes being predicted. Here is the example of an confusion matrix\n",
    "\n",
    "![title](cmatrix.png)\n",
    "\n",
    "For example we were given wisconsin breast cancer dataset and want to predict the type of cancer using logistic regression model"
   ]
  },
  {
   "cell_type": "code",
   "execution_count": 51,
   "metadata": {
    "deletable": false,
    "editable": false,
    "nbgrader": {
     "checksum": "f303268565f7249fb8e08aa9db411f7d",
     "grade": false,
     "grade_id": "cell-5b13d368f0b34fb5",
     "locked": true,
     "schema_version": 1,
     "solution": false
    }
   },
   "outputs": [
    {
     "data": {
      "text/html": [
       "<div>\n",
       "<style scoped>\n",
       "    .dataframe tbody tr th:only-of-type {\n",
       "        vertical-align: middle;\n",
       "    }\n",
       "\n",
       "    .dataframe tbody tr th {\n",
       "        vertical-align: top;\n",
       "    }\n",
       "\n",
       "    .dataframe thead th {\n",
       "        text-align: right;\n",
       "    }\n",
       "</style>\n",
       "<table border=\"1\" class=\"dataframe\">\n",
       "  <thead>\n",
       "    <tr style=\"text-align: right;\">\n",
       "      <th></th>\n",
       "      <th>mean radius</th>\n",
       "      <th>mean texture</th>\n",
       "      <th>mean perimeter</th>\n",
       "      <th>mean area</th>\n",
       "      <th>mean smoothness</th>\n",
       "      <th>mean compactness</th>\n",
       "      <th>mean concavity</th>\n",
       "      <th>mean concave points</th>\n",
       "      <th>mean symmetry</th>\n",
       "      <th>mean fractal dimension</th>\n",
       "      <th>...</th>\n",
       "      <th>worst texture</th>\n",
       "      <th>worst perimeter</th>\n",
       "      <th>worst area</th>\n",
       "      <th>worst smoothness</th>\n",
       "      <th>worst compactness</th>\n",
       "      <th>worst concavity</th>\n",
       "      <th>worst concave points</th>\n",
       "      <th>worst symmetry</th>\n",
       "      <th>worst fractal dimension</th>\n",
       "      <th>Diagnosis</th>\n",
       "    </tr>\n",
       "  </thead>\n",
       "  <tbody>\n",
       "    <tr>\n",
       "      <th>0</th>\n",
       "      <td>17.99</td>\n",
       "      <td>10.38</td>\n",
       "      <td>122.80</td>\n",
       "      <td>1001.0</td>\n",
       "      <td>0.11840</td>\n",
       "      <td>0.27760</td>\n",
       "      <td>0.3001</td>\n",
       "      <td>0.14710</td>\n",
       "      <td>0.2419</td>\n",
       "      <td>0.07871</td>\n",
       "      <td>...</td>\n",
       "      <td>17.33</td>\n",
       "      <td>184.60</td>\n",
       "      <td>2019.0</td>\n",
       "      <td>0.1622</td>\n",
       "      <td>0.6656</td>\n",
       "      <td>0.7119</td>\n",
       "      <td>0.2654</td>\n",
       "      <td>0.4601</td>\n",
       "      <td>0.11890</td>\n",
       "      <td>0</td>\n",
       "    </tr>\n",
       "    <tr>\n",
       "      <th>1</th>\n",
       "      <td>20.57</td>\n",
       "      <td>17.77</td>\n",
       "      <td>132.90</td>\n",
       "      <td>1326.0</td>\n",
       "      <td>0.08474</td>\n",
       "      <td>0.07864</td>\n",
       "      <td>0.0869</td>\n",
       "      <td>0.07017</td>\n",
       "      <td>0.1812</td>\n",
       "      <td>0.05667</td>\n",
       "      <td>...</td>\n",
       "      <td>23.41</td>\n",
       "      <td>158.80</td>\n",
       "      <td>1956.0</td>\n",
       "      <td>0.1238</td>\n",
       "      <td>0.1866</td>\n",
       "      <td>0.2416</td>\n",
       "      <td>0.1860</td>\n",
       "      <td>0.2750</td>\n",
       "      <td>0.08902</td>\n",
       "      <td>0</td>\n",
       "    </tr>\n",
       "    <tr>\n",
       "      <th>2</th>\n",
       "      <td>19.69</td>\n",
       "      <td>21.25</td>\n",
       "      <td>130.00</td>\n",
       "      <td>1203.0</td>\n",
       "      <td>0.10960</td>\n",
       "      <td>0.15990</td>\n",
       "      <td>0.1974</td>\n",
       "      <td>0.12790</td>\n",
       "      <td>0.2069</td>\n",
       "      <td>0.05999</td>\n",
       "      <td>...</td>\n",
       "      <td>25.53</td>\n",
       "      <td>152.50</td>\n",
       "      <td>1709.0</td>\n",
       "      <td>0.1444</td>\n",
       "      <td>0.4245</td>\n",
       "      <td>0.4504</td>\n",
       "      <td>0.2430</td>\n",
       "      <td>0.3613</td>\n",
       "      <td>0.08758</td>\n",
       "      <td>0</td>\n",
       "    </tr>\n",
       "    <tr>\n",
       "      <th>3</th>\n",
       "      <td>11.42</td>\n",
       "      <td>20.38</td>\n",
       "      <td>77.58</td>\n",
       "      <td>386.1</td>\n",
       "      <td>0.14250</td>\n",
       "      <td>0.28390</td>\n",
       "      <td>0.2414</td>\n",
       "      <td>0.10520</td>\n",
       "      <td>0.2597</td>\n",
       "      <td>0.09744</td>\n",
       "      <td>...</td>\n",
       "      <td>26.50</td>\n",
       "      <td>98.87</td>\n",
       "      <td>567.7</td>\n",
       "      <td>0.2098</td>\n",
       "      <td>0.8663</td>\n",
       "      <td>0.6869</td>\n",
       "      <td>0.2575</td>\n",
       "      <td>0.6638</td>\n",
       "      <td>0.17300</td>\n",
       "      <td>0</td>\n",
       "    </tr>\n",
       "    <tr>\n",
       "      <th>4</th>\n",
       "      <td>20.29</td>\n",
       "      <td>14.34</td>\n",
       "      <td>135.10</td>\n",
       "      <td>1297.0</td>\n",
       "      <td>0.10030</td>\n",
       "      <td>0.13280</td>\n",
       "      <td>0.1980</td>\n",
       "      <td>0.10430</td>\n",
       "      <td>0.1809</td>\n",
       "      <td>0.05883</td>\n",
       "      <td>...</td>\n",
       "      <td>16.67</td>\n",
       "      <td>152.20</td>\n",
       "      <td>1575.0</td>\n",
       "      <td>0.1374</td>\n",
       "      <td>0.2050</td>\n",
       "      <td>0.4000</td>\n",
       "      <td>0.1625</td>\n",
       "      <td>0.2364</td>\n",
       "      <td>0.07678</td>\n",
       "      <td>0</td>\n",
       "    </tr>\n",
       "  </tbody>\n",
       "</table>\n",
       "<p>5 rows × 31 columns</p>\n",
       "</div>"
      ],
      "text/plain": [
       "   mean radius  mean texture  mean perimeter  mean area  mean smoothness  \\\n",
       "0        17.99         10.38          122.80     1001.0          0.11840   \n",
       "1        20.57         17.77          132.90     1326.0          0.08474   \n",
       "2        19.69         21.25          130.00     1203.0          0.10960   \n",
       "3        11.42         20.38           77.58      386.1          0.14250   \n",
       "4        20.29         14.34          135.10     1297.0          0.10030   \n",
       "\n",
       "   mean compactness  mean concavity  mean concave points  mean symmetry  \\\n",
       "0           0.27760          0.3001              0.14710         0.2419   \n",
       "1           0.07864          0.0869              0.07017         0.1812   \n",
       "2           0.15990          0.1974              0.12790         0.2069   \n",
       "3           0.28390          0.2414              0.10520         0.2597   \n",
       "4           0.13280          0.1980              0.10430         0.1809   \n",
       "\n",
       "   mean fractal dimension    ...      worst texture  worst perimeter  \\\n",
       "0                 0.07871    ...              17.33           184.60   \n",
       "1                 0.05667    ...              23.41           158.80   \n",
       "2                 0.05999    ...              25.53           152.50   \n",
       "3                 0.09744    ...              26.50            98.87   \n",
       "4                 0.05883    ...              16.67           152.20   \n",
       "\n",
       "   worst area  worst smoothness  worst compactness  worst concavity  \\\n",
       "0      2019.0            0.1622             0.6656           0.7119   \n",
       "1      1956.0            0.1238             0.1866           0.2416   \n",
       "2      1709.0            0.1444             0.4245           0.4504   \n",
       "3       567.7            0.2098             0.8663           0.6869   \n",
       "4      1575.0            0.1374             0.2050           0.4000   \n",
       "\n",
       "   worst concave points  worst symmetry  worst fractal dimension  Diagnosis  \n",
       "0                0.2654          0.4601                  0.11890          0  \n",
       "1                0.1860          0.2750                  0.08902          0  \n",
       "2                0.2430          0.3613                  0.08758          0  \n",
       "3                0.2575          0.6638                  0.17300          0  \n",
       "4                0.1625          0.2364                  0.07678          0  \n",
       "\n",
       "[5 rows x 31 columns]"
      ]
     },
     "execution_count": 51,
     "metadata": {},
     "output_type": "execute_result"
    }
   ],
   "source": [
    "from sklearn.datasets import load_breast_cancer\n",
    "from sklearn.linear_model import LogisticRegression\n",
    "\n",
    "cancer = load_breast_cancer()\n",
    "df = pd.DataFrame(cancer.data, columns = cancer.feature_names)\n",
    "df[\"Diagnosis\"] = cancer.target\n",
    "df.head()"
   ]
  },
  {
   "cell_type": "code",
   "execution_count": 53,
   "metadata": {
    "deletable": false,
    "editable": false,
    "nbgrader": {
     "checksum": "b3c0e0f4302c1dc43dac37c8f868ddab",
     "grade": false,
     "grade_id": "cell-f95a96d16695df7a",
     "locked": true,
     "schema_version": 1,
     "solution": false
    }
   },
   "outputs": [
    {
     "name": "stderr",
     "output_type": "stream",
     "text": [
      "c:\\users\\alif\\appdata\\local\\programs\\python\\python37-32\\lib\\site-packages\\sklearn\\linear_model\\logistic.py:433: FutureWarning: Default solver will be changed to 'lbfgs' in 0.22. Specify a solver to silence this warning.\n",
      "  FutureWarning)\n"
     ]
    }
   ],
   "source": [
    "X = cancer.data\n",
    "y = cancer.target\n",
    "\n",
    "logisticRegr = LogisticRegression()\n",
    "logisticRegr.fit(X, y)\n",
    "\n",
    "y_pred = logisticRegr.predict(X)"
   ]
  },
  {
   "cell_type": "markdown",
   "metadata": {
    "deletable": false,
    "editable": false,
    "nbgrader": {
     "checksum": "8cf939ec78370739dba8517bca41d6ba",
     "grade": false,
     "grade_id": "cell-63d151f80639f0fd",
     "locked": true,
     "schema_version": 1,
     "solution": false
    }
   },
   "source": [
    "Then to evaluate our model we used confusion matrix. \n",
    "\n",
    "<b>Task: Create a method (create_cm) that will build our own confusion matrix then find the True Positive, False Positive, True Negative, and False Negative using only numpy library</b>"
   ]
  },
  {
   "cell_type": "code",
   "execution_count": null,
   "metadata": {
    "deletable": false,
    "editable": false,
    "nbgrader": {
     "checksum": "15cdeeeaba3b07475716142c61204555",
     "grade": true,
     "grade_id": "cell-2b4989651ec1a10f",
     "locked": true,
     "points": 0,
     "schema_version": 1,
     "solution": false
    }
   },
   "outputs": [],
   "source": []
  },
  {
   "cell_type": "code",
   "execution_count": 61,
   "metadata": {
    "deletable": false,
    "nbgrader": {
     "checksum": "ff7ba69f82352732a61f9f7bf190ee1f",
     "grade": false,
     "grade_id": "cell-96bf6bd7ca018851",
     "locked": false,
     "schema_version": 1,
     "solution": true
    }
   },
   "outputs": [
    {
     "data": {
      "text/plain": [
       "array([[348,  14],\n",
       "       [  9, 198]])"
      ]
     },
     "execution_count": 61,
     "metadata": {},
     "output_type": "execute_result"
    }
   ],
   "source": [
    "def create_cm(y_act, y_pred):\n",
    "    cm = None\n",
    "    # YOUR CODE HERE\n",
    "    TP = 0\n",
    "    FP = 0\n",
    "    TN = 0\n",
    "    FN = 0\n",
    "    size = len(y_pred)\n",
    "    for i in range(size):\n",
    "        if(y_pred[i] == 1):\n",
    "            if(y_act[i] == 1):\n",
    "                TP += 1\n",
    "            else:\n",
    "                FP += 1\n",
    "        else:\n",
    "            if(y_act[i] == 1):\n",
    "                FN += 1\n",
    "            else:\n",
    "                TN += 1\n",
    "    cm = np.array([[TP,FP],[FN,TN]])\n",
    "    return cm\n",
    "\n",
    "cm = create_cm(y, y_pred)\n",
    "\n",
    "### Please assign these variable according to your confusion matrix result\n",
    "### you will not get any scored if these variable are not assigned\n",
    "TP = None #True Positive\n",
    "FP = None #False Positive\n",
    "TN = None #True negative\n",
    "FN = None #False Negative\n",
    "\n",
    "# YOUR CODE HERE\n",
    "TP = cm[0][0]\n",
    "FP = cm[0][1]\n",
    "TN = cm[1][1]\n",
    "FN = cm[1][0]\n",
    "cm"
   ]
  },
  {
   "cell_type": "code",
   "execution_count": 58,
   "metadata": {
    "deletable": false,
    "editable": false,
    "nbgrader": {
     "checksum": "9d0cd9a519ead19f6a1e27d063437fae",
     "grade": true,
     "grade_id": "cell-4f0a86b5e2647be1",
     "locked": true,
     "points": 1,
     "schema_version": 1,
     "solution": false
    }
   },
   "outputs": [],
   "source": [
    "assert cm.shape == (2,2)"
   ]
  },
  {
   "cell_type": "code",
   "execution_count": null,
   "metadata": {
    "deletable": false,
    "editable": false,
    "nbgrader": {
     "checksum": "8087794aa4827f833672d42f5b0313ec",
     "grade": true,
     "grade_id": "cell-19763318f9673513",
     "locked": true,
     "points": 5,
     "schema_version": 1,
     "solution": false
    }
   },
   "outputs": [],
   "source": []
  },
  {
   "cell_type": "markdown",
   "metadata": {
    "deletable": false,
    "editable": false,
    "nbgrader": {
     "checksum": "25966937596a79bb5d2dd89234a831be",
     "grade": false,
     "grade_id": "cell-1c26697b0528f040",
     "locked": true,
     "schema_version": 1,
     "solution": false
    }
   },
   "source": [
    "## Point Metrics\n",
    "\n",
    "After having the confusion matrix, please implements find the accuracy, precision, recall, specificity, and F1 score of your model\n",
    "\n",
    "<b>notes: you can only used numpy library</b>"
   ]
  },
  {
   "cell_type": "code",
   "execution_count": null,
   "metadata": {
    "deletable": false,
    "editable": false,
    "nbgrader": {
     "checksum": "d7aca93166373086e9bef6136dd2b908",
     "grade": true,
     "grade_id": "cell-51b3da2638ed13f2",
     "locked": true,
     "points": 0,
     "schema_version": 1,
     "solution": false
    }
   },
   "outputs": [],
   "source": []
  },
  {
   "cell_type": "code",
   "execution_count": 62,
   "metadata": {
    "deletable": false,
    "nbgrader": {
     "checksum": "118d8c0ac25e6df3b2be8c5c4b677d8c",
     "grade": false,
     "grade_id": "cell-78d609eb35c82054",
     "locked": false,
     "schema_version": 1,
     "solution": true
    }
   },
   "outputs": [],
   "source": [
    "def accuracy(cm):\n",
    "    result = 0\n",
    "    # YOUR CODE HERE\n",
    "    result = (cm[0][0]+cm[1][1])/(cm[0][0]+cm[0][1]+cm[1][0]+cm[1][1])\n",
    "    return result\n",
    "    \n",
    "def precision(cm):\n",
    "    result = 0\n",
    "    # YOUR CODE HERE\n",
    "    result = cm[0][0]/(cm[0][0]+cm[0][1])\n",
    "    return result\n",
    "    \n",
    "def recall(cm):\n",
    "    result = 0\n",
    "    # YOUR CODE HERE\n",
    "    result = cm[0][0]/(cm[0][0]+cm[1][0])\n",
    "    return result\n",
    "    \n",
    "def specificity(cm):\n",
    "    result = 0\n",
    "    # YOUR CODE HERE\n",
    "    result = cm[1][1]/(cm[0][1]+cm[1][1])\n",
    "    return result\n",
    "    \n",
    "def f1score(cm):\n",
    "    result = 0\n",
    "    # YOUR CODE HERE\n",
    "    result = 2*(precision(cm)*recall(cm))/(precision(cm)+recall(cm))\n",
    "    return result"
   ]
  },
  {
   "cell_type": "code",
   "execution_count": 63,
   "metadata": {
    "deletable": false,
    "editable": false,
    "nbgrader": {
     "checksum": "2743fccf69b6813e7e1b0d1bdf6465a4",
     "grade": true,
     "grade_id": "cell-02dbde1c3f52b61d",
     "locked": true,
     "points": 1,
     "schema_version": 1,
     "solution": false
    }
   },
   "outputs": [],
   "source": [
    "a = [1,1,1,0,1,0,1]\n",
    "b = [0,0,1,0,1,0,1]\n",
    "confusion_matrix = create_cm(a,b)\n",
    "\n",
    "acc = accuracy(confusion_matrix)\n",
    "prec = precision(confusion_matrix)\n",
    "rec = recall(confusion_matrix)\n",
    "spe = specificity(confusion_matrix)\n",
    "f1 = f1score(confusion_matrix)\n",
    "\n",
    "assert is_similar(acc, 0.7142857142857143)\n",
    "assert is_similar(prec, 1.0)\n",
    "assert is_similar(rec, 0.6)\n",
    "assert is_similar(spe, 1.0)\n",
    "assert is_similar(f1, 0.7499999999999999)\n"
   ]
  },
  {
   "cell_type": "code",
   "execution_count": null,
   "metadata": {
    "deletable": false,
    "editable": false,
    "nbgrader": {
     "checksum": "dbe3305e08f36bfc8bbd008a24ad41ec",
     "grade": true,
     "grade_id": "cell-784937c39588b31f",
     "locked": true,
     "points": 5,
     "schema_version": 1,
     "solution": false
    }
   },
   "outputs": [],
   "source": []
  },
  {
   "cell_type": "markdown",
   "metadata": {
    "deletable": false,
    "editable": false,
    "nbgrader": {
     "checksum": "75276c2b9f8ab6bec0082d30af189159",
     "grade": false,
     "grade_id": "cell-992143fb58389174",
     "locked": true,
     "schema_version": 1,
     "solution": false
    }
   },
   "source": [
    "## Precision vs Recall"
   ]
  },
  {
   "cell_type": "code",
   "execution_count": 64,
   "metadata": {
    "deletable": false,
    "editable": false,
    "nbgrader": {
     "checksum": "195d5dc8a0ee6780ae4d93dc4989c244",
     "grade": false,
     "grade_id": "cell-5ebf206b7c63a816",
     "locked": true,
     "schema_version": 1,
     "solution": false
    }
   },
   "outputs": [
    {
     "data": {
      "text/plain": [
       "Text(0.5, 1.0, '2-class Precision-Recall curve: AP=1.00')"
      ]
     },
     "execution_count": 64,
     "metadata": {},
     "output_type": "execute_result"
    },
    {
     "data": {
      "image/png": "[encoded data removed]",
      "text/plain": [
       "<Figure size 432x288 with 1 Axes>"
      ]
     },
     "metadata": {
      "needs_background": "light"
     },
     "output_type": "display_data"
    }
   ],
   "source": [
    "from sklearn.metrics import average_precision_score\n",
    "from sklearn.metrics import precision_recall_curve\n",
    "import matplotlib.pyplot as plt\n",
    "from sklearn.utils.fixes import signature\n",
    "\n",
    "y_score = logisticRegr.decision_function(X)\n",
    "\n",
    "average_precision = average_precision_score(y, y_score)\n",
    "precision, recall, _ = precision_recall_curve(y, y_score)\n",
    "\n",
    "step_kwargs = ({'step': 'post'}\n",
    "               if 'step' in signature(plt.fill_between).parameters\n",
    "               else {})\n",
    "plt.step(recall, precision, color='b', alpha=0.2,\n",
    "         where='post')\n",
    "plt.fill_between(recall, precision, alpha=0.2, color='b', **step_kwargs)\n",
    "\n",
    "plt.xlabel('Recall')\n",
    "plt.ylabel('Precision')\n",
    "plt.ylim([0.0, 1.05])\n",
    "plt.xlim([0.0, 1.0])\n",
    "plt.title('2-class Precision-Recall curve: AP={0:0.2f}'.format(\n",
    "          average_precision))"
   ]
  },
  {
   "cell_type": "markdown",
   "metadata": {
    "deletable": false,
    "editable": false,
    "nbgrader": {
     "checksum": "a776a3ac2c66a4636850d4ad4a961bf5",
     "grade": false,
     "grade_id": "cell-dc10133b4a94228c",
     "locked": true,
     "schema_version": 1,
     "solution": false
    }
   },
   "source": [
    "Run the cell above and look at the graph, what can you say about that graph ?"
   ]
  },
  {
   "cell_type": "markdown",
   "metadata": {
    "deletable": false,
    "nbgrader": {
     "checksum": "da0ac3971831d3c7d6eb4ccba8592e02",
     "grade": true,
     "grade_id": "cell-3bd91db9514c3c71",
     "locked": false,
     "points": 1,
     "schema_version": 1,
     "solution": true
    }
   },
   "source": [
    "Berdasarkan grafik di atas, average precision = 1 berarti semua tebakan positif bernilai benar. Sedangkan recall, ada berbagai macam hasil mulai dari 0.2, 0.4, 0.6, 0.8, dan 1.0. Recall berarti proporsi tebakan positif yg berhasil ditebak.\n"
   ]
  },
  {
   "cell_type": "markdown",
   "metadata": {
    "deletable": false,
    "editable": false,
    "nbgrader": {
     "checksum": "e0987998c5b2ea172ebcde39a1ca8e46",
     "grade": false,
     "grade_id": "cell-3b23cbed518847cf",
     "locked": true,
     "schema_version": 1,
     "solution": false
    }
   },
   "source": [
    "## OPTIONAL (NO SCORE)"
   ]
  },
  {
   "cell_type": "code",
   "execution_count": null,
   "metadata": {},
   "outputs": [],
   "source": [
    "# give us your feedback of your experience on taking this test here\n",
    "FEEDBACK = \"\""
   ]
  }
 ],
 "metadata": {
  "kernelspec": {
   "display_name": "Python 3",
   "language": "python",
   "name": "python3"
  },
  "language_info": {
   "codemirror_mode": {
    "name": "ipython",
    "version": 3
   },
   "file_extension": ".py",
   "mimetype": "text/x-python",
   "name": "python",
   "nbconvert_exporter": "python",
   "pygments_lexer": "ipython3",
   "version": "3.7.1"
  }
 },
 "nbformat": 4,
 "nbformat_minor": 2
}
