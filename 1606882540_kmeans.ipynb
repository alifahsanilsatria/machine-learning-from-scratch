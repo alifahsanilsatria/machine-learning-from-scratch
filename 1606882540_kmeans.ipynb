{
 "cells": [
  {
   "cell_type": "markdown",
   "metadata": {
    "deletable": false,
    "editable": false,
    "nbgrader": {
     "checksum": "e6c31f426df5e75874063d342e410b96",
     "grade": false,
     "grade_id": "cell-29001679da8871a5",
     "locked": true,
     "schema_version": 1,
     "solution": false
    }
   },
   "source": [
    "# K-Means\n",
    "\n",
    "If you have any question regrading this particular assignment feel free to email gibran.muhammad@ui.ac.id"
   ]
  },
  {
   "cell_type": "markdown",
   "metadata": {
    "deletable": false,
    "editable": false,
    "nbgrader": {
     "checksum": "3dbcdbf0e2f5f1dc2bc4ed2b3bd0d87f",
     "grade": false,
     "grade_id": "cell-709a1970b46bc7ee",
     "locked": true,
     "schema_version": 1,
     "solution": false
    }
   },
   "source": [
    "# Table Of Content\n",
    "\n",
    "* [Unsupervised Learning](#Unsupervised-Learning)\n",
    "    * [K-Means](#K-Means-Clustering)\n",
    "        * [Initialize](#Initialize)\n",
    "        * [Learning](#Learning) (score:3)\n",
    "        * [Implementation](#Implementation) (score:2)"
   ]
  },
  {
   "cell_type": "code",
   "execution_count": 1,
   "metadata": {},
   "outputs": [
    {
     "name": "stderr",
     "output_type": "stream",
     "text": [
      "c:\\users\\alif\\appdata\\local\\programs\\python\\python37-32\\lib\\site-packages\\ipykernel\\parentpoller.py:116: UserWarning: Parent poll failed.  If the frontend dies,\n",
      "                the kernel may be left running.  Please let us know\n",
      "                about your system (bitness, Python, etc.) at\n",
      "                ipython-dev@scipy.org\n",
      "  ipython-dev@scipy.org\"\"\")\n"
     ]
    }
   ],
   "source": [
    "#put your npm as string below\n",
    "NPM = \"1606882540\"\n",
    "\n",
    "#if someone that also take an ML class this year help you doing this assingment,put his/her NPM as list of string below\n",
    "COLLABORATORS = []\n",
    "\n",
    "#if youre using external sources please put its link as list of string below\n",
    "SOURCES = []"
   ]
  },
  {
   "cell_type": "code",
   "execution_count": 2,
   "metadata": {
    "deletable": false,
    "editable": false,
    "nbgrader": {
     "checksum": "de2a0c23e3a62ac5c9bb96a8cbcf6854",
     "grade": false,
     "grade_id": "cell-1d41caad9aaa42ea",
     "locked": true,
     "schema_version": 1,
     "solution": false
    }
   },
   "outputs": [],
   "source": [
    "import numpy as np\n",
    "from matplotlib import pyplot as plt\n",
    "import pandas as pd\n",
    "import math"
   ]
  },
  {
   "cell_type": "code",
   "execution_count": null,
   "metadata": {
    "deletable": false,
    "editable": false,
    "nbgrader": {
     "checksum": "88dc25767cca5b06c66cf283247e0a84",
     "grade": true,
     "grade_id": "cell-f176fb7546ca62c7",
     "locked": true,
     "points": 0,
     "schema_version": 1,
     "solution": false
    }
   },
   "outputs": [],
   "source": []
  },
  {
   "cell_type": "code",
   "execution_count": 3,
   "metadata": {
    "deletable": false,
    "editable": false,
    "nbgrader": {
     "checksum": "5700df70df048f1a2da6797ca163582b",
     "grade": false,
     "grade_id": "cell-c71257c1b30b1010",
     "locked": true,
     "schema_version": 1,
     "solution": false
    }
   },
   "outputs": [],
   "source": [
    "def is_similar(X, Y):\n",
    "    if isinstance(X, list) and isinstance(Y, list):\n",
    "        if len(X) == len(Y):\n",
    "            return all([is_similar(x,Y[i]) for i,x in enumerate(X)])\n",
    "        else:\n",
    "            return False\n",
    "    return abs(X-Y) <= 1e-7"
   ]
  },
  {
   "cell_type": "markdown",
   "metadata": {
    "deletable": false,
    "editable": false,
    "nbgrader": {
     "checksum": "534c962a4fab22518ffa364dd46d8d50",
     "grade": false,
     "grade_id": "cell-e8f7a7a3db7ec67e",
     "locked": true,
     "schema_version": 1,
     "solution": false
    }
   },
   "source": [
    "# Unsupervised Learning\n",
    "\n",
    "different with supervised learning, in unsupervised learning we didn't defined an output variable hence we can't used external error criterion that relies on targets or other outside information."
   ]
  },
  {
   "cell_type": "markdown",
   "metadata": {
    "deletable": false,
    "editable": false,
    "nbgrader": {
     "checksum": "589330b2dd9ddf13115a31ee8d558b42",
     "grade": false,
     "grade_id": "cell-e6b013350aa7dc09",
     "locked": true,
     "schema_version": 1,
     "solution": false
    }
   },
   "source": [
    "## K-Means Clustering\n",
    "\n",
    "k-means is a type of clustering model that group the data into k different groups. Because it is an unsupervised model, we didn't specify the target group of the data and just let the machine decided.\n",
    "\n",
    "Given a data of points, we will use K-Means to group those points into 3 groups"
   ]
  },
  {
   "cell_type": "code",
   "execution_count": 4,
   "metadata": {
    "deletable": false,
    "editable": false,
    "nbgrader": {
     "checksum": "f1126ce258ed72e4104e8180f92c3c35",
     "grade": false,
     "grade_id": "cell-d9c1bdf4178bac7f",
     "locked": true,
     "schema_version": 1,
     "solution": false
    }
   },
   "outputs": [
    {
     "data": {
      "image/png": "[encoded data removed]",
      "text/plain": [
       "<Figure size 360x360 with 1 Axes>"
      ]
     },
     "metadata": {
      "needs_background": "light"
     },
     "output_type": "display_data"
    }
   ],
   "source": [
    "%matplotlib inline\n",
    "\n",
    "df = pd.DataFrame({\n",
    "    'x': [12, 20, 28, 18, 29, 33, 24, 45, 45, 52, 51, 52, 55, 53, 55, 61, 64, 69, 72,43],\n",
    "    'y': [39, 36, 30, 52, 54, 46, 55, 59, 63, 70, 66, 63, 58, 23, 14, 8, 19, 7, 24,23]\n",
    "})\n",
    "\n",
    "points = []\n",
    "for i in range(len(df)):\n",
    "    points.append((df['x'][i], df['y'][i]))\n",
    "    \n",
    "points = np.asarray(points) \n",
    "    \n",
    "fig = plt.figure(figsize=(5, 5))\n",
    "plt.scatter(df['x'], df['y'], color='k')\n",
    "plt.xlim(0, 80)\n",
    "plt.ylim(0, 80)\n",
    "plt.show()"
   ]
  },
  {
   "cell_type": "markdown",
   "metadata": {
    "deletable": false,
    "editable": false,
    "nbgrader": {
     "checksum": "9f3bd1640d522ed76a5a20fa2c811c7d",
     "grade": false,
     "grade_id": "cell-7af9ed73a2c624ec",
     "locked": true,
     "schema_version": 1,
     "solution": false
    }
   },
   "source": [
    "### Initialize\n",
    "First we randomly choose k points as our centroid"
   ]
  },
  {
   "cell_type": "code",
   "execution_count": 5,
   "metadata": {
    "deletable": false,
    "editable": false,
    "nbgrader": {
     "checksum": "d0b2b74bc74228cc4d6515504014cb88",
     "grade": false,
     "grade_id": "cell-73646a80088efc32",
     "locked": true,
     "schema_version": 1,
     "solution": false
    }
   },
   "outputs": [
    {
     "data": {
      "text/plain": [
       "array([[28, 30],\n",
       "       [12, 39],\n",
       "       [69,  7]], dtype=int64)"
      ]
     },
     "execution_count": 5,
     "metadata": {},
     "output_type": "execute_result"
    }
   ],
   "source": [
    "def initialize_centroids(X, k, seed=None):\n",
    "    if(seed):\n",
    "        np.random.seed(seed)\n",
    "        \n",
    "    random_idx = np.random.permutation(X.shape[0])\n",
    "    centroids = X[random_idx[:k]]\n",
    "    return centroids\n",
    "\n",
    "ic = initialize_centroids(points, 3, 200)\n",
    "ic"
   ]
  },
  {
   "cell_type": "markdown",
   "metadata": {
    "deletable": false,
    "editable": false,
    "nbgrader": {
     "checksum": "debece271acfdbe1fd1f3a1174d2467a",
     "grade": false,
     "grade_id": "cell-ce943e82a78a5506",
     "locked": true,
     "schema_version": 1,
     "solution": false
    }
   },
   "source": [
    "### Learning\n",
    "\n",
    "then we compute the distance between each point to our intial centroids, in our case we will be using euclidean distance as our distance metric. \n",
    "<br>\n",
    "<br>\n",
    "<b>task: Complete the missing part of code below without importing another library. You can use library that has been imported before such as numpy, pandas or math</b>\n",
    "\n",
    "notes: <br>\n",
    "x1 and x2 is an array with the same shape and both represent a point in cartesian coordinate"
   ]
  },
  {
   "cell_type": "code",
   "execution_count": null,
   "metadata": {
    "deletable": false,
    "editable": false,
    "nbgrader": {
     "checksum": "f8091a1aba08fcdab4d445f102c520fe",
     "grade": true,
     "grade_id": "cell-1804944063b95d0b",
     "locked": true,
     "points": 0,
     "schema_version": 1,
     "solution": false
    }
   },
   "outputs": [],
   "source": []
  },
  {
   "cell_type": "code",
   "execution_count": 6,
   "metadata": {
    "deletable": false,
    "nbgrader": {
     "checksum": "a85a94f8c605058a5a4322a409319211",
     "grade": false,
     "grade_id": "cell-05e82e2a0fcc7272",
     "locked": false,
     "schema_version": 1,
     "solution": true
    }
   },
   "outputs": [],
   "source": [
    "def euclidean_distance(x1, x2):\n",
    "    S = 0\n",
    "    for i in range(len(x1)):\n",
    "        S += (x1[i]-x2[i])**2\n",
    "    S = S**(0.5)\n",
    "    return S"
   ]
  },
  {
   "cell_type": "code",
   "execution_count": 7,
   "metadata": {
    "deletable": false,
    "editable": false,
    "nbgrader": {
     "checksum": "158bb2b77784cc83f5cb2adcad5428ac",
     "grade": true,
     "grade_id": "cell-87cdf694fb601612",
     "locked": true,
     "points": 1,
     "schema_version": 1,
     "solution": false
    }
   },
   "outputs": [],
   "source": [
    "x1 = np.array([1,0])\n",
    "x2 = np.array([1,2])\n",
    "S = euclidean_distance(x1,x2)\n",
    "\n",
    "assert is_similar(S, 2.0)\n",
    "\n",
    "x1 = np.array([89,23])\n",
    "x2 = np.array([234,45])\n",
    "S = euclidean_distance(x1,x2)\n",
    "\n",
    "assert is_similar(S, 146.6594695203825)\n"
   ]
  },
  {
   "cell_type": "code",
   "execution_count": null,
   "metadata": {
    "deletable": false,
    "editable": false,
    "nbgrader": {
     "checksum": "0b3d5cd330291c02e8d43c8c5117463f",
     "grade": true,
     "grade_id": "cell-a4e9553c34b65d85",
     "locked": true,
     "points": 5,
     "schema_version": 1,
     "solution": false
    }
   },
   "outputs": [],
   "source": []
  },
  {
   "cell_type": "markdown",
   "metadata": {
    "deletable": false,
    "editable": false,
    "nbgrader": {
     "checksum": "2607ad5497f5e10f8d1bd95afcfb37f7",
     "grade": false,
     "grade_id": "cell-152ba589bf3d94c0",
     "locked": true,
     "schema_version": 1,
     "solution": false
    }
   },
   "source": [
    "Then we assign each point to its nearest centroid\n",
    "<br>\n",
    "<br>\n",
    "<b>task: Complete the missing part of code below without importing another library. You can use library that has been imported before such as numpy, pandas or math</b>\n",
    "\n",
    "note: <br>\n",
    "centroids = an array of points (x,y)"
   ]
  },
  {
   "cell_type": "code",
   "execution_count": null,
   "metadata": {
    "deletable": false,
    "editable": false,
    "nbgrader": {
     "checksum": "fa48a6d5c5c12d5b069d108c925f0f4b",
     "grade": true,
     "grade_id": "cell-f880fe8bb82848b2",
     "locked": true,
     "points": 0,
     "schema_version": 1,
     "solution": false
    }
   },
   "outputs": [],
   "source": []
  },
  {
   "cell_type": "code",
   "execution_count": 8,
   "metadata": {
    "deletable": false,
    "nbgrader": {
     "checksum": "1c4abf20968f52d1174ef49afc12b5c7",
     "grade": false,
     "grade_id": "cell-222482a208131b45",
     "locked": false,
     "schema_version": 1,
     "solution": true
    }
   },
   "outputs": [],
   "source": [
    "def assign_centroid(centroids, point):\n",
    "    minimum = 100000; \n",
    "    index = -1;\n",
    "    for i,val in enumerate(centroids):\n",
    "        distance = euclidean_distance(val,point)\n",
    "        if distance < minimum:\n",
    "            minimum = distance\n",
    "            index = i\n",
    "    ### return centroid index ex. assign_centroid([[1,2], [32,1], [-34,23]], [1,2]) => 0\n",
    "    return index;"
   ]
  },
  {
   "cell_type": "code",
   "execution_count": 9,
   "metadata": {
    "deletable": false,
    "editable": false,
    "nbgrader": {
     "checksum": "4a06e7bbe25991fc8e5d2b35383a7f26",
     "grade": true,
     "grade_id": "cell-c80159fcceb74963",
     "locked": true,
     "points": 1,
     "schema_version": 1,
     "solution": false
    }
   },
   "outputs": [],
   "source": [
    "idx = assign_centroid([[1,2], [32,1], [-34,23]], [1,2])\n",
    "assert is_similar(idx, 0)\n",
    "\n",
    "label = []\n",
    "for point in points:\n",
    "    label.append(assign_centroid(ic, point))\n",
    "\n",
    "goal = [1, 1, 0, 1, 1, 0, 1, 0, 0, 0, 0, 0, 0, 2, 2, 2, 2, 2, 2, 0]\n",
    "assert is_similar(label, goal)"
   ]
  },
  {
   "cell_type": "code",
   "execution_count": null,
   "metadata": {
    "deletable": false,
    "editable": false,
    "nbgrader": {
     "checksum": "e4ab895ff507f8e06336ea82b6fb086a",
     "grade": true,
     "grade_id": "cell-04c3fc8245871cde",
     "locked": true,
     "points": 5,
     "schema_version": 1,
     "solution": false
    }
   },
   "outputs": [],
   "source": []
  },
  {
   "cell_type": "markdown",
   "metadata": {
    "deletable": false,
    "editable": false,
    "nbgrader": {
     "checksum": "08ba93db48e198e33ed8a5b2de3cf787",
     "grade": false,
     "grade_id": "cell-43f12e1476cb8326",
     "locked": true,
     "schema_version": 1,
     "solution": false
    }
   },
   "source": [
    "after that, calculate the mean of each class label then assign those mean as our new centroid\n",
    "<br>\n",
    "<br>\n",
    "<b>task: Complete the missing part of code below without importing another library. You can use library that has been imported before such as numpy, pandas or math</b>\n",
    "\n",
    "notes: <br>\n",
    "datas = our dataset <br>\n",
    "label = list of assigned centroid index associate with datas <br>\n",
    "old_cetroids = centroids that we want to update"
   ]
  },
  {
   "cell_type": "code",
   "execution_count": null,
   "metadata": {
    "deletable": false,
    "editable": false,
    "nbgrader": {
     "checksum": "82c7da1a9bc80290d65f033010d29f58",
     "grade": true,
     "grade_id": "cell-a52128b1f0e1996a",
     "locked": true,
     "points": 0,
     "schema_version": 1,
     "solution": false
    }
   },
   "outputs": [],
   "source": []
  },
  {
   "cell_type": "code",
   "execution_count": 10,
   "metadata": {
    "deletable": false,
    "nbgrader": {
     "checksum": "482d4aacbe09f4fe92ba9fcb47643616",
     "grade": false,
     "grade_id": "cell-23d98cd714e5b3d3",
     "locked": false,
     "schema_version": 1,
     "solution": true
    }
   },
   "outputs": [],
   "source": [
    "def update_centroids(datas, label, old_centroids):\n",
    "    new_centroid = np.zeros(old_centroids.shape)\n",
    "    jumlah_data = np.zeros(old_centroids.shape[0])\n",
    "    for i,val in enumerate(datas):\n",
    "        for j,val2 in enumerate(val):\n",
    "            new_centroid[label[i]][j] += val2 \n",
    "        jumlah_data[label[i]] += 1\n",
    "\n",
    "    for i,val in enumerate(new_centroid):\n",
    "        for j,val2 in enumerate(val):\n",
    "            new_centroid[i][j] = val2/jumlah_data[i]\n",
    "            \n",
    "    return np.round(new_centroid, 3)"
   ]
  },
  {
   "cell_type": "code",
   "execution_count": 11,
   "metadata": {
    "deletable": false,
    "editable": false,
    "nbgrader": {
     "checksum": "3d4973f46d13e6fa6c83ab2d4938d8df",
     "grade": true,
     "grade_id": "cell-856124fcc62e3d75",
     "locked": true,
     "points": 1,
     "schema_version": 1,
     "solution": false
    }
   },
   "outputs": [],
   "source": [
    "lbl = [0,0,0]\n",
    "X = np.array([[1,0], [5,2], [1,-1]])\n",
    "c = np.array([[2,2]])\n",
    "c = update_centroids(X,lbl, c)\n",
    "\n",
    "goals = np.array([[2.333, 0.333]])\n",
    "np.testing.assert_allclose(c, goals, rtol=1e-5, atol=0)\n",
    "\n",
    "lbl = [0,0,0,1,1,1]\n",
    "X = np.array([[1,0], [5,2], [1,-1], [1,1], [2,2], [5,-2]])\n",
    "c = np.array([[2,2],[3,2]])\n",
    "c = update_centroids(X,lbl, c)\n",
    "\n",
    "goals = np.array([[2.333, 0.333],\n",
    "       [2.667, 0.333]])\n",
    "np.testing.assert_allclose(c, goals, rtol=1e-5, atol=0)\n",
    "\n",
    "ic = initialize_centroids(points, 3, 200)\n",
    "ic = update_centroids(points, label, ic)\n",
    "goals = np.array([[44.889, 53.111],\n",
    "       [20.6  , 47.2  ],\n",
    "       [62.333, 15.833]])\n",
    "\n",
    "np.testing.assert_allclose(ic, goals, rtol=1e-5, atol=0)"
   ]
  },
  {
   "cell_type": "code",
   "execution_count": null,
   "metadata": {
    "deletable": false,
    "editable": false,
    "nbgrader": {
     "checksum": "1bbff410036b5c445ce9bcebb2d11a47",
     "grade": true,
     "grade_id": "cell-934a7f66133ec4c8",
     "locked": true,
     "points": 5,
     "schema_version": 1,
     "solution": false
    }
   },
   "outputs": [],
   "source": []
  },
  {
   "cell_type": "markdown",
   "metadata": {
    "deletable": false,
    "editable": false,
    "nbgrader": {
     "checksum": "ce9d10d2fc0204f864c8c4301d7a0bc0",
     "grade": false,
     "grade_id": "cell-1f5d9bf261c1c352",
     "locked": true,
     "schema_version": 1,
     "solution": false
    }
   },
   "source": [
    "Then we repeat the learning process until centroids stop moving or new centroids == old centroids."
   ]
  },
  {
   "cell_type": "markdown",
   "metadata": {
    "deletable": false,
    "editable": false,
    "nbgrader": {
     "checksum": "170c2f8881e125e69e27d10d4b575bcb",
     "grade": false,
     "grade_id": "cell-bf25f766ea02a6fe",
     "locked": true,
     "schema_version": 1,
     "solution": false
    }
   },
   "source": [
    "### Implementation\n",
    "\n",
    "Lets wrap all of the method we write into one class. Below is the implementation of our K-means class.\n",
    "<br>\n",
    "<b>task: Complete the missing part of code below without importing another library. You can use library that has been imported before such as numpy, pandas or math</b>"
   ]
  },
  {
   "cell_type": "code",
   "execution_count": null,
   "metadata": {
    "deletable": false,
    "editable": false,
    "nbgrader": {
     "checksum": "d1f51d8aa38d673ea6f5eca875a7e73d",
     "grade": true,
     "grade_id": "cell-4de7cd2628a12f29",
     "locked": true,
     "points": 0,
     "schema_version": 1,
     "solution": false
    }
   },
   "outputs": [],
   "source": []
  },
  {
   "cell_type": "code",
   "execution_count": 12,
   "metadata": {
    "deletable": false,
    "nbgrader": {
     "checksum": "8341393897d89e169916c8ee7a7fa7fe",
     "grade": false,
     "grade_id": "cell-18819280b8f9929d",
     "locked": false,
     "schema_version": 1,
     "solution": true
    }
   },
   "outputs": [],
   "source": [
    "class Kmeans:\n",
    "    def __init__(self, n_clusters, max_iter=100, random_state=123, seed=None):\n",
    "        self.n_clusters = n_clusters\n",
    "        self.max_iter = max_iter\n",
    "        self.random_state = random_state\n",
    "        self.seed = seed\n",
    "        \n",
    "    def initialize_centroids(self, X):\n",
    "        if(self.seed):\n",
    "            np.random.seed(self.seed)\n",
    "        else:\n",
    "            np.random.RandomState(self.random_state)\n",
    "\n",
    "        random_idx = np.random.permutation(X.shape[0])\n",
    "        centroids = X[random_idx[:self.n_clusters]]\n",
    "        return centroids\n",
    "    \n",
    "    def euclidean_distance(self, x1, x2):\n",
    "        S = 0\n",
    "        for i in range(len(x1)):\n",
    "            S += (x1[i]-x2[i])**2\n",
    "        S = S**(0.5)\n",
    "        return S\n",
    "    \n",
    "    def assign_centroid(self, x):\n",
    "        minimum = 100000; \n",
    "        index = -1; \n",
    "        # YOUR CODE HERE\n",
    "        for i,val in enumerate(self.centroids):\n",
    "            distance = self.euclidean_distance(val,x)\n",
    "            if distance < minimum:\n",
    "                minimum = distance\n",
    "                index = i\n",
    "        return index\n",
    "    \n",
    "    def update_centroids(self, datas, label, old_centroids):\n",
    "        new_centroid = np.zeros(old_centroids.shape)\n",
    "        # YOUR CODE HERE\n",
    "        jumlah_data = np.zeros(old_centroids.shape[0])\n",
    "        for i,val in enumerate(datas):\n",
    "            for j,val2 in enumerate(val):\n",
    "                new_centroid[label[i]][j] += val2 \n",
    "            jumlah_data[label[i]] += 1\n",
    "\n",
    "        for i,val in enumerate(new_centroid):\n",
    "            for j,val2 in enumerate(val):\n",
    "                if(jumlah_data[i] > 0):\n",
    "                    new_centroid[i][j] = val2/jumlah_data[i]\n",
    "        return np.round(new_centroid, 3)\n",
    "    \n",
    "    def fit(self, X):\n",
    "        self.centroids = self.initialize_centroids(X)\n",
    "        self.labels = [0]*X.shape[0]\n",
    "        for i in range(self.max_iter):\n",
    "            # YOUR CODE HERE\n",
    "            for j,point in enumerate(X):\n",
    "                idx = self.assign_centroid(point)\n",
    "                self.labels[j] = idx\n",
    "            self.centroids = self.update_centroids(X,self.labels,self.centroids)\n",
    "            \n",
    "    \n",
    "    def predict(self, X):\n",
    "        label = []\n",
    "        # YOUR CODE HERE\n",
    "        for point in X:\n",
    "            idx = self.assign_centroid(point)\n",
    "            label.append(idx)\n",
    "        return label"
   ]
  },
  {
   "cell_type": "code",
   "execution_count": 13,
   "metadata": {
    "deletable": false,
    "editable": false,
    "nbgrader": {
     "checksum": "62076c4d6ac43134f5f6ca6d9f3e4cbd",
     "grade": true,
     "grade_id": "cell-d3d294cf61ef12a5",
     "locked": true,
     "points": 2,
     "schema_version": 1,
     "solution": false
    }
   },
   "outputs": [],
   "source": [
    "kmeans = Kmeans(3, seed=200)\n",
    "kmeans.fit(points)\n",
    "\n",
    "assert len(set(kmeans.labels[:7])) == 1\n",
    "assert len(set(kmeans.labels[7:13])) == 1\n",
    "assert len(set(kmeans.labels[13:])) == 1\n",
    "\n",
    "X_test = np.array([[60,80], [50, 10], [10,70]])\n",
    "y_pred = kmeans.predict(X_test)\n",
    "\n",
    "assert is_similar(y_pred, [0, 2, 1])\n"
   ]
  },
  {
   "cell_type": "code",
   "execution_count": 14,
   "metadata": {},
   "outputs": [
    {
     "data": {
      "image/png": "[encoded data removed]",
      "text/plain": [
       "<Figure size 360x360 with 1 Axes>"
      ]
     },
     "metadata": {
      "needs_background": "light"
     },
     "output_type": "display_data"
    }
   ],
   "source": [
    "# PLAYGROUND\n",
    "# you can do anything here as long as not adding any new import or breaking stuff\n",
    "\n",
    "kmeans = Kmeans(3, seed=200)\n",
    "kmeans.fit(points)\n",
    "kmeans.labels\n",
    "\n",
    "recolor = {0:'r', 1:'g', 2:'b'}\n",
    "\n",
    "df['colors'] = kmeans.labels\n",
    "df = df.replace(recolor)\n",
    "\n",
    "fig = plt.figure(figsize=(5, 5))\n",
    "plt.scatter(df['x'], df['y'], color=df['colors'], alpha=0.5, edgecolor='k')\n",
    "for i in range(len(kmeans.centroids)):\n",
    "    plt.scatter(*kmeans.centroids[i], color=recolor[i])\n",
    "plt.xlim(0, 80)\n",
    "plt.ylim(0, 80)\n",
    "plt.show()"
   ]
  },
  {
   "cell_type": "code",
   "execution_count": null,
   "metadata": {
    "deletable": false,
    "editable": false,
    "nbgrader": {
     "checksum": "296809d408ffa492e3922086b17c7cc0",
     "grade": true,
     "grade_id": "cell-fa165e6b205af07e",
     "locked": true,
     "points": 5,
     "schema_version": 1,
     "solution": false
    }
   },
   "outputs": [],
   "source": []
  },
  {
   "cell_type": "markdown",
   "metadata": {
    "deletable": false,
    "editable": false,
    "nbgrader": {
     "checksum": "6c5f30491d091668d9de59d42f9e7982",
     "grade": false,
     "grade_id": "cell-b70ad27fcf4d16cf",
     "locked": true,
     "schema_version": 1,
     "solution": false
    }
   },
   "source": [
    "## OPTIONAL (NO SCORE)"
   ]
  },
  {
   "cell_type": "code",
   "execution_count": 15,
   "metadata": {},
   "outputs": [],
   "source": [
    "# give us your feedback of your experience on taking this test here\n",
    "FEEDBACK = \"\""
   ]
  },
  {
   "cell_type": "code",
   "execution_count": 16,
   "metadata": {},
   "outputs": [
    {
     "data": {
      "image/png": "[encoded data removed]",
      "text/plain": [
       "<Figure size 360x360 with 1 Axes>"
      ]
     },
     "metadata": {
      "needs_background": "light"
     },
     "output_type": "display_data"
    }
   ],
   "source": [
    "from sklearn.cluster import KMeans\n",
    "\n",
    "kmeans = KMeans(n_clusters=3, random_state=0).fit(points)\n",
    "recolor = {0:'r', 1:'g', 2:'b'}\n",
    "\n",
    "df['colors'] = kmeans.labels_\n",
    "df = df.replace(recolor)\n",
    "\n",
    "fig = plt.figure(figsize=(5, 5))\n",
    "plt.scatter(df['x'], df['y'], color=df['colors'], alpha=0.5, edgecolor='k')\n",
    "for i in range(len(kmeans.cluster_centers_)):\n",
    "    plt.scatter(*kmeans.cluster_centers_[i], color=recolor[i])\n",
    "plt.xlim(0, 80)\n",
    "plt.ylim(0, 80)\n",
    "plt.show()"
   ]
  },
  {
   "cell_type": "code",
   "execution_count": null,
   "metadata": {},
   "outputs": [],
   "source": []
  }
 ],
 "metadata": {
  "kernelspec": {
   "display_name": "Python 3",
   "language": "python",
   "name": "python3"
  },
  "language_info": {
   "codemirror_mode": {
    "name": "ipython",
    "version": 3
   },
   "file_extension": ".py",
   "mimetype": "text/x-python",
   "name": "python",
   "nbconvert_exporter": "python",
   "pygments_lexer": "ipython3",
   "version": "3.7.1"
  }
 },
 "nbformat": 4,
 "nbformat_minor": 2
}
