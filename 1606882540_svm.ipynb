{
 "cells": [
  {
   "cell_type": "markdown",
   "metadata": {
    "deletable": false,
    "editable": false,
    "nbgrader": {
     "checksum": "af8da1d6bdbaae37419f78f34e47004b",
     "grade": false,
     "grade_id": "cell-504a54bae46d4034",
     "locked": true,
     "schema_version": 1,
     "solution": false
    }
   },
   "source": [
    "# Support Vector Machine\n",
    "\n",
    "If you have any question regrading this particular assignment feel free to email gibran.muhammad@ui.ac.id"
   ]
  },
  {
   "cell_type": "markdown",
   "metadata": {
    "deletable": false,
    "editable": false,
    "nbgrader": {
     "checksum": "c17a72b7379448568e64d68e107b1062",
     "grade": false,
     "grade_id": "cell-949faa37d0db8c9e",
     "locked": true,
     "schema_version": 1,
     "solution": false
    }
   },
   "source": [
    "# Table Of Content\n",
    "\n",
    "* [Kernel](#Kernel)\n",
    "    * [Linear Kernel](#Linear-Kernel) (score:1)\n",
    "    * [Polynomial Kernel](#Polynomial-Kernel) (score:1)\n",
    "    * [RBF Kernel](#RBF-Kernel) (score:1)\n",
    "* [Support Vector Machine](#Support-Vector-Machine) (score:2)\n",
    "* [Exercise](#Exercise) (score:1)\n",
    "\n"
   ]
  },
  {
   "cell_type": "code",
   "execution_count": 1,
   "metadata": {},
   "outputs": [],
   "source": [
    "#put your npm as string below\n",
    "NPM = \"1606882540\"\n",
    "\n",
    "#if someone that also take an ML class this year help you doing this assingment,put his/her NPM as list of string below\n",
    "COLLABORATORS = []\n",
    "\n",
    "#if youre using external sources please put its link as list of string below\n",
    "SOURCES = []"
   ]
  },
  {
   "cell_type": "code",
   "execution_count": 2,
   "metadata": {
    "deletable": false,
    "editable": false,
    "nbgrader": {
     "checksum": "f6d42e1689a39d3f5288527d5ced13dd",
     "grade": false,
     "grade_id": "import",
     "locked": true,
     "schema_version": 1,
     "solution": false
    }
   },
   "outputs": [],
   "source": [
    "import matplotlib.pyplot as plt\n",
    "from matplotlib import cm"
   ]
  },
  {
   "cell_type": "code",
   "execution_count": 3,
   "metadata": {
    "deletable": false,
    "editable": false,
    "nbgrader": {
     "checksum": "21a67f669f8cc8a0d97ceb97556ba2f4",
     "grade": false,
     "grade_id": "helper_func",
     "locked": true,
     "schema_version": 1,
     "solution": false
    }
   },
   "outputs": [],
   "source": [
    "def is_similar(X, Y):\n",
    "    if isinstance(X, list) and isinstance(Y, list):\n",
    "        if len(X) == len(Y):\n",
    "            return all([is_similar(x,Y[i]) for i,x in enumerate(X)])\n",
    "        else:\n",
    "            return False\n",
    "    return abs(X-Y) <= 1e-7"
   ]
  },
  {
   "cell_type": "code",
   "execution_count": null,
   "metadata": {
    "deletable": false,
    "editable": false,
    "nbgrader": {
     "checksum": "40c65eee2c40c843125e2074cfbf409d",
     "grade": true,
     "grade_id": "import_check_helper",
     "locked": true,
     "points": 0,
     "schema_version": 1,
     "solution": false
    }
   },
   "outputs": [],
   "source": []
  },
  {
   "cell_type": "markdown",
   "metadata": {
    "deletable": false,
    "editable": false,
    "nbgrader": {
     "checksum": "13f44b2d2fd3bd9faecad4d873f66756",
     "grade": false,
     "grade_id": "header_kernel",
     "locked": true,
     "schema_version": 1,
     "solution": false
    }
   },
   "source": [
    "## Kernel"
   ]
  },
  {
   "cell_type": "markdown",
   "metadata": {
    "deletable": false,
    "editable": false,
    "nbgrader": {
     "checksum": "f82c956c6078e6e720fb801a2fed43b1",
     "grade": false,
     "grade_id": "lin_kernel_quest",
     "locked": true,
     "schema_version": 1,
     "solution": false
    }
   },
   "source": [
    "### Linear Kernel\n",
    "#### score: 1 point\n",
    "without using any external library, implement linear kernel\n",
    "\n",
    "$$ K(x, y) = x^Ty $$\n",
    "\n",
    "x, y represented as list with the same length"
   ]
  },
  {
   "cell_type": "code",
   "execution_count": 4,
   "metadata": {
    "deletable": false,
    "nbgrader": {
     "checksum": "1746870e6711ea226f03aaa637c163b4",
     "grade": false,
     "grade_id": "lin_kernel_ans",
     "locked": false,
     "schema_version": 1,
     "solution": true
    }
   },
   "outputs": [],
   "source": [
    "def linear_kernel(x,y):\n",
    "    # YOUR CODE HERE\n",
    "    k = 0\n",
    "    for i in range(len(x)):\n",
    "        k += x[i]*y[i]\n",
    "    return k\n",
    "#     raise NotImplementedError()"
   ]
  },
  {
   "cell_type": "code",
   "execution_count": 5,
   "metadata": {
    "deletable": false,
    "editable": false,
    "nbgrader": {
     "checksum": "79a19070775fff915a25a32006bfa2b7",
     "grade": true,
     "grade_id": "lin_kernel_test",
     "locked": true,
     "points": 1,
     "schema_version": 1,
     "solution": false
    }
   },
   "outputs": [],
   "source": [
    "x = [1,2,3]\n",
    "y = [3,4,5]\n",
    "assert is_similar(linear_kernel(x,y), 26)\n",
    "\n",
    "x = [0,-1,2,4]\n",
    "y = [0,-1,2,4]\n",
    "assert is_similar(linear_kernel(x,y), 21)\n"
   ]
  },
  {
   "cell_type": "markdown",
   "metadata": {
    "deletable": false,
    "editable": false,
    "nbgrader": {
     "checksum": "a83e71102a581ed740031803c5d5345e",
     "grade": false,
     "grade_id": "pol_kernel_quest",
     "locked": true,
     "schema_version": 1,
     "solution": false
    }
   },
   "source": [
    "### Polynomial Kernel\n",
    "#### score: 1 point\n",
    "without using any external library, implement polynomial kernel with degree d\n",
    "\n",
    "$$ K(x, y, d) = (c + x^Ty)^d $$\n",
    "\n",
    "with c = 1 <br>\n",
    "x,y represented as list with the same length"
   ]
  },
  {
   "cell_type": "code",
   "execution_count": 6,
   "metadata": {
    "deletable": false,
    "nbgrader": {
     "checksum": "69cdae086be23eb7d7a77ff6f8edb730",
     "grade": false,
     "grade_id": "pol_kernel_ans",
     "locked": false,
     "schema_version": 1,
     "solution": true
    }
   },
   "outputs": [],
   "source": [
    "def polynomial_kernel(x,y,d=3):\n",
    "    # YOUR CODE HERE\n",
    "    k = 0\n",
    "    for i in range(len(x)):\n",
    "        k += x[i]*y[i]\n",
    "    k += 1\n",
    "    k = k**d\n",
    "    return k\n",
    "#     raise NotImplementedError()"
   ]
  },
  {
   "cell_type": "code",
   "execution_count": 7,
   "metadata": {
    "deletable": false,
    "editable": false,
    "nbgrader": {
     "checksum": "22d95a981797b56158b16b750953ea57",
     "grade": true,
     "grade_id": "pol_kernel_test",
     "locked": true,
     "points": 1,
     "schema_version": 1,
     "solution": false
    }
   },
   "outputs": [],
   "source": [
    "x = [1,2,3]\n",
    "y = [3,4,5]\n",
    "d = 2\n",
    "assert is_similar(polynomial_kernel(x,y,d), 729)\n",
    "\n",
    "x = [0,-1,2,4]\n",
    "y = [0,-1,2,4]\n",
    "d = 3\n",
    "assert is_similar(polynomial_kernel(x,y,d), 10648)\n"
   ]
  },
  {
   "cell_type": "markdown",
   "metadata": {
    "deletable": false,
    "editable": false,
    "nbgrader": {
     "checksum": "65d2c192edd293c77bcfbb02781f8de1",
     "grade": false,
     "grade_id": "rbf_kernel_quest",
     "locked": true,
     "schema_version": 1,
     "solution": false
    }
   },
   "source": [
    "### RBF Kernel\n",
    "#### score: 1 point\n",
    "without using any external library except <b>numpy.linalg.norm</b>, implement RBF or Gaussian kernel\n",
    "\n",
    "\n",
    "$$ K(x, y) = exp(-||x-y||^2/2\\sigma^2) $$\n",
    "\n",
    "\n",
    "x,y represented as list with the same length"
   ]
  },
  {
   "cell_type": "code",
   "execution_count": 8,
   "metadata": {
    "deletable": false,
    "editable": false,
    "nbgrader": {
     "checksum": "9969aaca3e014494ee5406cbac89684c",
     "grade": false,
     "grade_id": "rbf_import",
     "locked": true,
     "schema_version": 1,
     "solution": false
    }
   },
   "outputs": [],
   "source": [
    "from numpy.linalg import norm"
   ]
  },
  {
   "cell_type": "code",
   "execution_count": null,
   "metadata": {
    "deletable": false,
    "editable": false,
    "nbgrader": {
     "checksum": "7bec1b281bea281fc2e24b55ad1c4e6c",
     "grade": true,
     "grade_id": "import_checker_helper_1",
     "locked": true,
     "points": 0,
     "schema_version": 1,
     "solution": false
    }
   },
   "outputs": [],
   "source": []
  },
  {
   "cell_type": "code",
   "execution_count": 9,
   "metadata": {
    "deletable": false,
    "nbgrader": {
     "checksum": "cbdaea30d171e608a52c697ad32b02e9",
     "grade": false,
     "grade_id": "rbf_kernel_ans",
     "locked": false,
     "schema_version": 1,
     "solution": true
    }
   },
   "outputs": [],
   "source": [
    "def rbf_kernel(x,y,sigma):\n",
    "    e = 2.718281828459045\n",
    "    # YOUR CODE HERE\n",
    "    sub = []\n",
    "    for i in range(len(x)):\n",
    "        sub.append(abs(x[i]-y[i]))\n",
    "    norm_res = norm(sub)\n",
    "    arg = -(norm_res**2)/(2*(sigma**2))\n",
    "    res = e**arg\n",
    "    return res\n",
    "#     raise NotImplementedError()"
   ]
  },
  {
   "cell_type": "code",
   "execution_count": 10,
   "metadata": {
    "deletable": false,
    "editable": false,
    "nbgrader": {
     "checksum": "583b914a7b19b79c775d600238111152",
     "grade": true,
     "grade_id": "rbf_kernel_test",
     "locked": true,
     "points": 1,
     "schema_version": 1,
     "solution": false
    }
   },
   "outputs": [],
   "source": [
    "x = [1,2,3]\n",
    "y = [3,4,5]\n",
    "sigma = 2\n",
    "assert is_similar(rbf_kernel(x,y,sigma), 0.2231301601484299)\n",
    "\n",
    "x = [0,2,4,1]\n",
    "y = [0,-1,2,4]\n",
    "sigma = 5\n",
    "assert is_similar(rbf_kernel(x,y,sigma), 0.6440364210831414)\n"
   ]
  },
  {
   "cell_type": "code",
   "execution_count": null,
   "metadata": {
    "deletable": false,
    "editable": false,
    "nbgrader": {
     "checksum": "a6b511444bfc42375de34f4bb0521170",
     "grade": true,
     "grade_id": "import_check_1",
     "locked": true,
     "points": 2,
     "schema_version": 1,
     "solution": false
    }
   },
   "outputs": [],
   "source": []
  },
  {
   "cell_type": "markdown",
   "metadata": {
    "deletable": false,
    "editable": false,
    "nbgrader": {
     "checksum": "b23b6c474e55858ad0b7c7e644d402f8",
     "grade": false,
     "grade_id": "svm_header",
     "locked": true,
     "schema_version": 1,
     "solution": false
    }
   },
   "source": [
    "## Support Vector Machine"
   ]
  },
  {
   "cell_type": "markdown",
   "metadata": {
    "deletable": false,
    "editable": false,
    "nbgrader": {
     "checksum": "eb1ba578bc6ee729e5faf68caffe81fe",
     "grade": false,
     "grade_id": "svm_quest",
     "locked": true,
     "schema_version": 1,
     "solution": false
    }
   },
   "source": [
    "#### total score: 2 point\n",
    "##### 1 point for fit (X,y)\n",
    "##### 1 point for predict (X)\n",
    "\n",
    "implement Support Vector Machine for binary classification problem **you are only allowed to use numpy and numpy.linalg**\n",
    "\n",
    "use function fit to train the model\n",
    "\n",
    "and function predict to predict the trained model\n",
    "\n",
    "X is matrix of data (column as features, row as datapoint)\n",
    "\n",
    "y is vector of label (-1 or 1) coresponding to X\n",
    "\n",
    "a is lagrange multipliers ($\\lambda$)\n",
    "\n",
    "b is intercept\n",
    "\n",
    "sv is support vector\n",
    "\n",
    "svt is label of the support vector \n",
    "\n"
   ]
  },
  {
   "cell_type": "code",
   "execution_count": 11,
   "metadata": {
    "deletable": false,
    "editable": false,
    "nbgrader": {
     "checksum": "57adcbc629460e905ed11c433e7d264e",
     "grade": false,
     "grade_id": "import2",
     "locked": true,
     "schema_version": 1,
     "solution": false
    }
   },
   "outputs": [],
   "source": [
    "import cvxopt\n",
    "import numpy as np"
   ]
  },
  {
   "cell_type": "code",
   "execution_count": null,
   "metadata": {
    "deletable": false,
    "editable": false,
    "nbgrader": {
     "checksum": "1458dd6c21c565f4be72f407427a5946",
     "grade": true,
     "grade_id": "import_checker_helper_2",
     "locked": true,
     "points": 0,
     "schema_version": 1,
     "solution": false
    }
   },
   "outputs": [],
   "source": []
  },
  {
   "cell_type": "code",
   "execution_count": 12,
   "metadata": {
    "deletable": false,
    "nbgrader": {
     "checksum": "2d38869343623e63c27742b73e65484d",
     "grade": false,
     "grade_id": "svm_ans",
     "locked": false,
     "schema_version": 1,
     "solution": true
    }
   },
   "outputs": [],
   "source": [
    "class SVM:\n",
    "    def __init__(self, kernel=linear_kernel, C=None, degree=3, sigma=5):\n",
    "        self.a = None\n",
    "        self.sv = None\n",
    "        self.svt = None\n",
    "        self.b = None\n",
    "        self.C = C\n",
    "        self.kernel = kernel\n",
    "        self.degree = degree\n",
    "        self.sigma = sigma\n",
    "        if(self.C is not None):\n",
    "            self.C = float(self.C)\n",
    "            \n",
    "    def _qpSolver(self, X, y):\n",
    "        n, features = X.shape\n",
    "#         print(n)\n",
    "        K = np.zeros((n, n))\n",
    "        for i in range(n):\n",
    "            for j in range(n):\n",
    "                 K[i,j] = self.kernel(X[i], X[j])\n",
    "                \n",
    "        P = cvxopt.matrix(np.outer(y,y) * K)\n",
    "#         print(\"P : \",P)\n",
    "        q = cvxopt.matrix(np.ones(n) * -1)\n",
    "#         print(\"q : \",q)\n",
    "        A = cvxopt.matrix(y, (1,n), 'd')\n",
    "#         print(\"A : \",A)\n",
    "        b = cvxopt.matrix(0.0)\n",
    "#         print(\"b : \",b)\n",
    "\n",
    "        if self.C is None:\n",
    "            G = cvxopt.matrix(np.diag(np.ones(n) * -1))\n",
    "            h = cvxopt.matrix(np.zeros(n))\n",
    "        else:\n",
    "            G = cvxopt.matrix(np.vstack((np.diag(np.ones(n) * -1), np.identity(n))))\n",
    "            h = cvxopt.matrix(np.hstack((np.zeros(n), np.ones(n) * self.C)))\n",
    "        \n",
    "        cvxopt.solvers.options['show_progress'] = False\n",
    "        res = cvxopt.solvers.qp(P, q, G, h, A, b)\n",
    "        a = np.ravel(res['x'])\n",
    "        return a\n",
    "    \n",
    "    # YOUR CODE HERE\n",
    "    \n",
    "    def fit(self, X, y):\n",
    "#         # YOUR CODE HERE\n",
    "        self.a = self._qpSolver(X,y)\n",
    "        self.a_sv = self.a[self.a > 1e-7]\n",
    "        self.sv = X[self.a > 1e-7]\n",
    "        self.svt = y[self.a > 1e-7]\n",
    "        ns = len(self.sv)\n",
    "        b = 0\n",
    "        for i in range(len(self.svt)):\n",
    "            jumlahan = 0\n",
    "            for j in range(len(self.svt)):\n",
    "                jumlahan += self.a_sv[j]*self.svt[j]*self.kernel(self.sv[j],self.sv[i])\n",
    "            b += self.svt[i]-jumlahan\n",
    "        self.b = b/ns\n",
    "        return 0\n",
    "        #raise NotImplementedError()\n",
    "        \n",
    "    def predict(self, X):\n",
    "        y_predict = None\n",
    "        # YOUR CODE HERE\n",
    "        y_predict = np.zeros(len(X))\n",
    "        for i in range(len(X)):\n",
    "            jumlahan = 0\n",
    "            for j in range(len(self.sv)):\n",
    "                jumlahan += np.dot(self.a_sv[j]*self.svt[j],self.kernel(self.sv[j],X[i]))\n",
    "            y_predict[i] = jumlahan\n",
    "#         raise NotImplementedError()\n",
    "        print(y_predict)\n",
    "        return np.sign(y_predict + self.b), y_predict + self.b"
   ]
  },
  {
   "cell_type": "code",
   "execution_count": 13,
   "metadata": {
    "deletable": false,
    "editable": false,
    "nbgrader": {
     "checksum": "485b03a74e760af4cbc1f793919c26b3",
     "grade": true,
     "grade_id": "svm_test",
     "locked": true,
     "points": 2,
     "schema_version": 1,
     "solution": false
    }
   },
   "outputs": [
    {
     "name": "stdout",
     "output_type": "stream",
     "text": [
      "[1.24822802]\n"
     ]
    }
   ],
   "source": [
    "def test_svm():\n",
    "    X = np.zeros((100,2))\n",
    "    np.random.seed(64)\n",
    "    X[0:50,0] = np.random.uniform(-3,1,50)\n",
    "    np.random.seed(36)\n",
    "    X[0:50,1] = np.random.uniform(-3,1,50)\n",
    "\n",
    "    np.random.seed(64)\n",
    "    X[50:,0] = np.random.uniform(2,4,50)\n",
    "    np.random.seed(36)\n",
    "    X[50:,1] = np.random.uniform(-2,6,50)\n",
    "    y = np.array([-1 if i < 50 else 1 for i in range(100)])\n",
    "\n",
    "    svm = SVM(kernel=polynomial_kernel)\n",
    "    svm.fit(X,y)\n",
    "    return X,y,svm\n",
    "\n",
    "X,y, svm = test_svm()\n",
    "\n",
    "g = np.array([[ 0.95732021, -1.0710335 ],\n",
    "       [ 0.82783717,  0.2080372 ],\n",
    "       [ 2.00389699, -0.31674417],\n",
    "       [ 2.07133994,  3.36711104],\n",
    "       [ 2.03597597,  0.73548602]])\n",
    "t = np.array([-1, -1,  1,  1,  1])\n",
    "\n",
    "X_test = np.array([[0.53223423, 4.2422343242]])\n",
    "y_test,_ = svm.predict(X_test)\n",
    "\n",
    "np.testing.assert_array_almost_equal(svm.sv, g)\n",
    "np.testing.assert_array_almost_equal(svm.svt, t)\n",
    "np.testing.assert_array_almost_equal(y_test, np.array([-1.]))\n"
   ]
  },
  {
   "cell_type": "code",
   "execution_count": 14,
   "metadata": {},
   "outputs": [
    {
     "data": {
      "text/plain": [
       "array([ 4,  8, 12])"
      ]
     },
     "execution_count": 14,
     "metadata": {},
     "output_type": "execute_result"
    }
   ],
   "source": [
    "# PLAYGROUND\n",
    "# you can do anything here as long as not adding any new import or breaking stuff\n",
    "\n",
    "# X = np.zeros((100,2))\n",
    "# np.random.seed(64)\n",
    "# X[0:50,0] = np.random.uniform(-3,1,50)\n",
    "# np.random.seed(36)\n",
    "# X[0:50,1] = np.random.uniform(-3,1,50)\n",
    "\n",
    "# np.random.seed(64)\n",
    "# X[50:,0] = np.random.uniform(2,4,50)\n",
    "# np.random.seed(36)\n",
    "# X[50:,1] = np.random.uniform(-2,6,50)\n",
    "# y = np.array([-1 if i < 50 else 1 for i in range(100)])\n",
    "\n",
    "# svm = SVM(kernel=linear_kernel)\n",
    "# print(\"X : \",X)\n",
    "# print(\"y : \",y)\n",
    "# alfa = svm._qpSolver(X, y)\n",
    "# print(\"Alfa : \",alfa)\n",
    "# print(\"Alfa shape : \",alfa.shape)\n",
    "\n",
    "np.dot(4,np.array([1,2,3]))\n",
    "\n",
    "# X = np.zeros((100,2))\n",
    "# np.random.seed(64)\n",
    "# X[0:50,0] = np.random.uniform(-3,1,50)\n",
    "# np.random.seed(36)\n",
    "# X[0:50,1] = np.random.uniform(-3,1,50)\n",
    "\n",
    "# np.random.seed(64)\n",
    "# X[50:,0] = np.random.uniform(2,4,50)\n",
    "# np.random.seed(36)\n",
    "# X[50:,1] = np.random.uniform(-2,6,50)\n",
    "# y = np.array([-1 if i < 50 else 1 for i in range(100)])\n",
    "\n",
    "# svm = SVM(kernel=polynomial_kernel)\n",
    "# svm.fit(X,y)\n",
    "    \n",
    "# def plot_contour(X1_train, X2_train, clf):\n",
    "#     plt.plot(X1_train[:,0], X1_train[:,1], \"ro\")\n",
    "#     plt.plot(X2_train[:,0], X2_train[:,1], \"bo\")\n",
    "#     plt.scatter(clf.sv[:,0], clf.sv[:,1], s=100, c=\"g\")\n",
    "\n",
    "#     X1, X2 = np.meshgrid(np.linspace(-6,6,50), np.linspace(-6,6,50))\n",
    "#     X = np.array([[x1, x2] for x1, x2 in zip(np.ravel(X1), np.ravel(X2))])\n",
    "#     _, project = clf.predict(X)\n",
    "#     Z = project.reshape(X1.shape)\n",
    "#     plt.contour(X1, X2, Z, [0.0], colors='k', linewidths=1, origin='lower')\n",
    "#     plt.contour(X1, X2, Z + 1, [0.0], colors='grey', linewidths=1, origin='lower')\n",
    "#     plt.contour(X1, X2, Z - 1, [0.0], colors='grey', linewidths=1, origin='lower')\n",
    "\n",
    "#     plt.axis(\"tight\")\n",
    "#     plt.show()\n",
    "    \n",
    "# plot_contour(X[y==1], X[y==-1], svm)"
   ]
  },
  {
   "cell_type": "code",
   "execution_count": null,
   "metadata": {
    "deletable": false,
    "editable": false,
    "nbgrader": {
     "checksum": "edca488cf5200eec688f5f08d7e18239",
     "grade": true,
     "grade_id": "import_check_2",
     "locked": true,
     "points": 2,
     "schema_version": 1,
     "solution": false
    }
   },
   "outputs": [],
   "source": []
  },
  {
   "cell_type": "markdown",
   "metadata": {
    "deletable": false,
    "editable": false,
    "nbgrader": {
     "checksum": "5fef0a2225c9a2e4871dd910010a9df2",
     "grade": false,
     "grade_id": "exercise_1",
     "locked": true,
     "schema_version": 1,
     "solution": false
    }
   },
   "source": [
    "### Exercise\n",
    "\n",
    "given X_train and y_train, predict the label of X_test using Support Vector Machine\n",
    "\n",
    "you are only allowed to use <b>numpy and numpy.linalg</b>"
   ]
  },
  {
   "cell_type": "code",
   "execution_count": 15,
   "metadata": {
    "deletable": false,
    "editable": false,
    "nbgrader": {
     "checksum": "1c6b58e67481be9144bbc267352c77e9",
     "grade": false,
     "grade_id": "exercise_init",
     "locked": true,
     "schema_version": 1,
     "solution": false
    }
   },
   "outputs": [
    {
     "data": {
      "image/png": "[encoded data removed]",
      "text/plain": [
       "<Figure size 432x288 with 1 Axes>"
      ]
     },
     "metadata": {
      "needs_background": "light"
     },
     "output_type": "display_data"
    }
   ],
   "source": [
    "X_train = np.array([[ 0.32625355, -0.94726409],\n",
    "       [-0.74441863,  0.27383975],\n",
    "       [-0.13848114,  0.79547269],\n",
    "       [ 0.9801023 , -0.24806749],\n",
    "       [ 0.0621153 ,  1.03016724],\n",
    "       [-0.97700346,  0.09963382],\n",
    "       [-0.42244125,  0.90644976],\n",
    "       [ 0.49859124, -0.82198025],\n",
    "       [-0.19977433, -0.98509693],\n",
    "       [-0.82097825, -0.61862732],\n",
    "       [ 0.58365089,  0.54473471],\n",
    "       [ 0.33246961,  0.92908773],\n",
    "       [ 0.92758306,  0.2157438 ],\n",
    "       [-0.32443099,  0.75049458],\n",
    "       [-0.64006343,  0.50283855],\n",
    "       [-0.37639392, -0.71349069],\n",
    "       [ 0.41695202, -0.65669386],\n",
    "       [ 0.68918272,  0.69169911],\n",
    "       [-0.48224241, -0.60309897],\n",
    "       [ 0.03625237,  0.78272488],\n",
    "       [ 0.42309888,  0.67325122],\n",
    "       [-0.80219813,  0.09187327],\n",
    "       [ 0.74988172, -0.03716344],\n",
    "       [-0.60924045, -0.761042  ],\n",
    "       [-0.8077536 ,  0.58768096],\n",
    "       [-0.18963537,  0.98880677],\n",
    "       [ 0.65234292, -0.37208701],\n",
    "       [ 0.69782225,  0.37878824],\n",
    "       [ 0.04994162, -0.79597903],\n",
    "       [-0.96606392, -0.13882518],\n",
    "       [ 0.99724674, -0.01243279],\n",
    "       [ 0.06492594, -0.98459514],\n",
    "       [ 0.5305424 ,  0.85280978],\n",
    "       [ 0.2681683 ,  0.76388573],\n",
    "       [-0.52677094,  0.63364358],\n",
    "       [ 0.72899717, -0.69239112],\n",
    "       [ 0.57561069, -0.53852852],\n",
    "       [-0.91005325,  0.3841486 ],\n",
    "       [ 0.80153489, -0.23796694],\n",
    "       [-0.6363921 , -0.47568971],\n",
    "       [-0.60705324,  0.78305409],\n",
    "       [-0.89052437, -0.36038825],\n",
    "       [ 0.73986824,  0.20231909],\n",
    "       [-0.15139136, -0.77562688],\n",
    "       [-0.80735838, -0.10575167],\n",
    "       [ 0.26652474, -0.76521636],\n",
    "       [-0.44353959, -0.90317309],\n",
    "       [ 0.86669567, -0.4633295 ],\n",
    "       [-0.76635263, -0.27189397],\n",
    "       [ 0.87843983,  0.47218692]])\n",
    "\n",
    "y_train = np.array([-1, 1, 1, -1, -1, -1, -1, -1, -1, -1, 1, -1, -1, 1, 1, 1, 1, -1, 1, 1, 1, 1,\n",
    "       1, -1, -1, -1, 1, 1, 1, -1, -1, -1, -1, 1, 1, -1, 1, -1, 1, 1, -1, -1, 1, 1,\n",
    "       1, 1, -1, -1, 1, -1])\n",
    "\n",
    "X_test = np.array([[0,0],\n",
    "                   [-1,-1],\n",
    "                   [0.24342424,-0.2312321313],\n",
    "                   [0.1234234124,-1],\n",
    "                   [1.23412341242,-0.23421342],\n",
    "                   [0.54645654456,-0.456546546456],\n",
    "                   [0.324234325,-0.5654654646],\n",
    "                   [0.65464654654,0.45654646465]])\n",
    "\n",
    "plt.scatter(X_train[:, 0], X_train[:, 1], c = y_train, marker = '.') \n",
    "plt.show() "
   ]
  },
  {
   "cell_type": "code",
   "execution_count": 16,
   "metadata": {
    "deletable": false,
    "nbgrader": {
     "checksum": "defd6d3c2c7fa909b1b4d187e380c980",
     "grade": true,
     "grade_id": "exercise_ans",
     "locked": false,
     "points": 0,
     "schema_version": 1,
     "solution": true
    }
   },
   "outputs": [
    {
     "name": "stdout",
     "output_type": "stream",
     "text": [
      "[ 1.55112231e-07 -1.59117305e+01 -7.48044803e-01 -8.31107158e+00\n",
      " -1.20406511e+01 -3.69883415e+00 -3.15436791e+00 -5.18516875e+00]\n",
      "[ 1. -1.  1. -1. -1.  1.  1.  1.]\n"
     ]
    }
   ],
   "source": [
    "y_test = None\n",
    "# YOUR CODE HERE\n",
    "svm_new = SVM(kernel=polynomial_kernel)\n",
    "svm_new.fit(X_train,y_train)\n",
    "y_test, _ = svm_new.predict(X_test)\n",
    "print(y_test)\n",
    "# raise NotImplementedError()"
   ]
  },
  {
   "cell_type": "code",
   "execution_count": 17,
   "metadata": {
    "deletable": false,
    "editable": false,
    "nbgrader": {
     "checksum": "7aebdfb9d416e3685589febdbd86bdce",
     "grade": true,
     "grade_id": "exercise_test",
     "locked": true,
     "points": 1,
     "schema_version": 1,
     "solution": false
    }
   },
   "outputs": [],
   "source": [
    "g = np.array([ 1., -1.,  1., -1., -1.,  1.,  1.,  1.])\n",
    "np.testing.assert_array_almost_equal(y_test, g)"
   ]
  },
  {
   "cell_type": "code",
   "execution_count": null,
   "metadata": {
    "deletable": false,
    "editable": false,
    "nbgrader": {
     "checksum": "968027462091e30159c093887e097b25",
     "grade": true,
     "grade_id": "import_check",
     "locked": true,
     "points": 2,
     "schema_version": 1,
     "solution": false
    }
   },
   "outputs": [],
   "source": []
  },
  {
   "cell_type": "markdown",
   "metadata": {
    "deletable": false,
    "editable": false,
    "nbgrader": {
     "checksum": "b8092af1dbe14446630583f2094f3ab8",
     "grade": false,
     "grade_id": "optional",
     "locked": true,
     "schema_version": 1,
     "solution": false
    }
   },
   "source": [
    "## OPTIONAL (NO SCORE)"
   ]
  },
  {
   "cell_type": "code",
   "execution_count": 18,
   "metadata": {
    "deletable": false,
    "editable": false,
    "nbgrader": {
     "checksum": "06be2e5df28c5da5c4fdaf3021094b89",
     "grade": false,
     "grade_id": "feedback",
     "locked": true,
     "schema_version": 1,
     "solution": false
    }
   },
   "outputs": [],
   "source": [
    "# give us your feedback of your experience on taking this test here\n",
    "FEEDBACK = \"\""
   ]
  },
  {
   "cell_type": "code",
   "execution_count": null,
   "metadata": {},
   "outputs": [],
   "source": []
  }
 ],
 "metadata": {
  "kernelspec": {
   "display_name": "py3.6",
   "language": "python",
   "name": "py3.6"
  },
  "language_info": {
   "codemirror_mode": {
    "name": "ipython",
    "version": 3
   },
   "file_extension": ".py",
   "mimetype": "text/x-python",
   "name": "python",
   "nbconvert_exporter": "python",
   "pygments_lexer": "ipython3",
   "version": "3.6.8"
  }
 },
 "nbformat": 4,
 "nbformat_minor": 2
}
